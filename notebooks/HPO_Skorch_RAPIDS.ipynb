{
 "cells": [
  {
   "cell_type": "markdown",
   "metadata": {},
   "source": [
    "### Adaptive Hyperparameter Optimization with Dask-ML\n",
    "\n",
    "This notebook demonstrates Hyperband, a model selection algorithm now part of Dask-ML. It showcases:\n",
    "\n",
    "* **Problem:** Tuning hyperparameters for good model performance.\n",
    "* **Realistic Use Case:** Image denoising with a deep learning model.\n",
    "* **Hyperparameter Optimization:**\n",
    "    * Explores parameter space with Hyperband.\n",
    "    * Compares with early stopping techniques.\n",
    "* **Results Visualization:**\n",
    "    * Analyzes input/output data.\n",
    "    * Visualizes best model's performance."
   ]
  },
  {
   "cell_type": "markdown",
   "metadata": {},
   "source": [
    "### Importance of Hyperparameter Tuning\n",
    "\n",
    "Any machine learning model requires tuning hyperparameters for optimal performance. This notebook focuses on image denoising, where crucial parameters include:\n",
    "\n",
    "```python\n",
    "params = {\n",
    "    'module__init': ['xavier_uniform_', 'xavier_normal_', 'kaiming_uniform_', 'kaiming_normal_'],\n",
    "    'module__activation': ['ReLU', 'LeakyReLU', 'ELU', 'PReLU'],\n",
    "    'optimizer': [\"SGD\"] * 5 + [\"Adam\"] * 2,\n",
    "    'batch_size': [32, 64, 128, 256, 512],\n",
    "    'optimizer__lr': np.logspace(1, -1.5, num=1000),\n",
    "    'optimizer__weight_decay': [0]*200 + np.logspace(-5, -3, num=1000).tolist(),\n",
    "    'optimizer__nesterov': [True],\n",
    "    'optimizer__momentum': np.linspace(0, 1, num=1000),\n",
    "    'train_split': [None],\n",
    "}\n",
    "\n",
    "\n",
    "These parameters control:\n",
    "\n",
    "* Model initialization\n",
    "* Activation function\n",
    "* Optimizer and its hyperparameters (learning rate, momentum, etc.)\n",
    "* Batch size"
   ]
  },
  {
   "cell_type": "code",
   "execution_count": 1,
   "metadata": {},
   "outputs": [],
   "source": [
    "import warnings\n",
    "warnings.filterwarnings('ignore') # Reduce number of messages/warnings displayed"
   ]
  },
  {
   "cell_type": "code",
   "execution_count": 2,
   "metadata": {},
   "outputs": [],
   "source": [
    "# !export PYTHONPATH=../src:$PYTHONPATH\n",
    "# !echo $PYTHONPATH\n",
    "!cp -u ../src/noisy_mnist.py . \n"
   ]
  },
  {
   "cell_type": "code",
   "execution_count": 3,
   "metadata": {},
   "outputs": [
    {
     "name": "stdout",
     "output_type": "stream",
     "text": [
      "Today's date: 2024-04-15\n"
     ]
    }
   ],
   "source": [
    "from datetime import date\n",
    "\n",
    "today = date.today()\n",
    "print(\"Today's date:\", today)"
   ]
  },
  {
   "cell_type": "code",
   "execution_count": 4,
   "metadata": {},
   "outputs": [],
   "source": [
    "import os\n",
    "path = \"/\".join(os.getcwd().split(\"/\")[:-1])\n",
    "results_folder = f\"data/results/skorch_run/{today}\"\n",
    "absolutepath_to_results = os.path.join(path,results_folder)\n",
    "os.makedirs(absolutepath_to_results,exist_ok=True)\n"
   ]
  },
  {
   "cell_type": "code",
   "execution_count": 5,
   "metadata": {},
   "outputs": [],
   "source": [
    "import socket\n",
    "s=socket.socket()\n",
    "s.bind((\"\", 0))\n",
    "port = s.getsockname()[1]\n",
    "s.close()"
   ]
  },
  {
   "cell_type": "code",
   "execution_count": 6,
   "metadata": {},
   "outputs": [],
   "source": [
    "from dask.distributed import Client, wait\n",
    "from dask_cuda import LocalCUDACluster"
   ]
  },
  {
   "cell_type": "code",
   "execution_count": 7,
   "metadata": {},
   "outputs": [
    {
     "data": {
      "text/html": [
       "<div>\n",
       "    <div style=\"width: 24px; height: 24px; background-color: #e1e1e1; border: 3px solid #9D9D9D; border-radius: 5px; position: absolute;\"> </div>\n",
       "    <div style=\"margin-left: 48px;\">\n",
       "        <h3 style=\"margin-bottom: 0px;\">Client</h3>\n",
       "        <p style=\"color: #9D9D9D; margin-bottom: 0px;\">Client-5bb10bbf-fb20-11ee-89e2-0cc47a542834</p>\n",
       "        <table style=\"width: 100%; text-align: left;\">\n",
       "\n",
       "        <tr>\n",
       "        \n",
       "            <td style=\"text-align: left;\"><strong>Connection method:</strong> Cluster object</td>\n",
       "            <td style=\"text-align: left;\"><strong>Cluster type:</strong> dask_cuda.LocalCUDACluster</td>\n",
       "        \n",
       "        </tr>\n",
       "\n",
       "        \n",
       "            <tr>\n",
       "                <td style=\"text-align: left;\">\n",
       "                    <strong>Dashboard: </strong> <a href=\"http://127.0.0.1:45215/status\" target=\"_blank\">http://127.0.0.1:45215/status</a>\n",
       "                </td>\n",
       "                <td style=\"text-align: left;\"></td>\n",
       "            </tr>\n",
       "        \n",
       "\n",
       "        </table>\n",
       "\n",
       "        \n",
       "\n",
       "        \n",
       "            <details>\n",
       "            <summary style=\"margin-bottom: 20px;\"><h3 style=\"display: inline;\">Cluster Info</h3></summary>\n",
       "            <div class=\"jp-RenderedHTMLCommon jp-RenderedHTML jp-mod-trusted jp-OutputArea-output\">\n",
       "    <div style=\"width: 24px; height: 24px; background-color: #e1e1e1; border: 3px solid #9D9D9D; border-radius: 5px; position: absolute;\">\n",
       "    </div>\n",
       "    <div style=\"margin-left: 48px;\">\n",
       "        <h3 style=\"margin-bottom: 0px; margin-top: 0px;\">LocalCUDACluster</h3>\n",
       "        <p style=\"color: #9D9D9D; margin-bottom: 0px;\">3f33c6c0</p>\n",
       "        <table style=\"width: 100%; text-align: left;\">\n",
       "            <tr>\n",
       "                <td style=\"text-align: left;\">\n",
       "                    <strong>Dashboard:</strong> <a href=\"http://127.0.0.1:45215/status\" target=\"_blank\">http://127.0.0.1:45215/status</a>\n",
       "                </td>\n",
       "                <td style=\"text-align: left;\">\n",
       "                    <strong>Workers:</strong> 2\n",
       "                </td>\n",
       "            </tr>\n",
       "            <tr>\n",
       "                <td style=\"text-align: left;\">\n",
       "                    <strong>Total threads:</strong> 2\n",
       "                </td>\n",
       "                <td style=\"text-align: left;\">\n",
       "                    <strong>Total memory:</strong> 32.00 GiB\n",
       "                </td>\n",
       "            </tr>\n",
       "            \n",
       "            <tr>\n",
       "    <td style=\"text-align: left;\"><strong>Status:</strong> running</td>\n",
       "    <td style=\"text-align: left;\"><strong>Using processes:</strong> True</td>\n",
       "</tr>\n",
       "\n",
       "            \n",
       "        </table>\n",
       "\n",
       "        <details>\n",
       "            <summary style=\"margin-bottom: 20px;\">\n",
       "                <h3 style=\"display: inline;\">Scheduler Info</h3>\n",
       "            </summary>\n",
       "\n",
       "            <div style=\"\">\n",
       "    <div>\n",
       "        <div style=\"width: 24px; height: 24px; background-color: #FFF7E5; border: 3px solid #FF6132; border-radius: 5px; position: absolute;\"> </div>\n",
       "        <div style=\"margin-left: 48px;\">\n",
       "            <h3 style=\"margin-bottom: 0px;\">Scheduler</h3>\n",
       "            <p style=\"color: #9D9D9D; margin-bottom: 0px;\">Scheduler-ce69b156-f277-45c0-a80d-a6889598ef29</p>\n",
       "            <table style=\"width: 100%; text-align: left;\">\n",
       "                <tr>\n",
       "                    <td style=\"text-align: left;\">\n",
       "                        <strong>Comm:</strong> tcp://127.0.0.1:41167\n",
       "                    </td>\n",
       "                    <td style=\"text-align: left;\">\n",
       "                        <strong>Workers:</strong> 2\n",
       "                    </td>\n",
       "                </tr>\n",
       "                <tr>\n",
       "                    <td style=\"text-align: left;\">\n",
       "                        <strong>Dashboard:</strong> <a href=\"http://127.0.0.1:45215/status\" target=\"_blank\">http://127.0.0.1:45215/status</a>\n",
       "                    </td>\n",
       "                    <td style=\"text-align: left;\">\n",
       "                        <strong>Total threads:</strong> 2\n",
       "                    </td>\n",
       "                </tr>\n",
       "                <tr>\n",
       "                    <td style=\"text-align: left;\">\n",
       "                        <strong>Started:</strong> Just now\n",
       "                    </td>\n",
       "                    <td style=\"text-align: left;\">\n",
       "                        <strong>Total memory:</strong> 32.00 GiB\n",
       "                    </td>\n",
       "                </tr>\n",
       "            </table>\n",
       "        </div>\n",
       "    </div>\n",
       "\n",
       "    <details style=\"margin-left: 48px;\">\n",
       "        <summary style=\"margin-bottom: 20px;\">\n",
       "            <h3 style=\"display: inline;\">Workers</h3>\n",
       "        </summary>\n",
       "\n",
       "        \n",
       "        <div style=\"margin-bottom: 20px;\">\n",
       "            <div style=\"width: 24px; height: 24px; background-color: #DBF5FF; border: 3px solid #4CC9FF; border-radius: 5px; position: absolute;\"> </div>\n",
       "            <div style=\"margin-left: 48px;\">\n",
       "            <details>\n",
       "                <summary>\n",
       "                    <h4 style=\"margin-bottom: 0px; display: inline;\">Worker: 0</h4>\n",
       "                </summary>\n",
       "                <table style=\"width: 100%; text-align: left;\">\n",
       "                    <tr>\n",
       "                        <td style=\"text-align: left;\">\n",
       "                            <strong>Comm: </strong> tcp://127.0.0.1:41283\n",
       "                        </td>\n",
       "                        <td style=\"text-align: left;\">\n",
       "                            <strong>Total threads: </strong> 1\n",
       "                        </td>\n",
       "                    </tr>\n",
       "                    <tr>\n",
       "                        <td style=\"text-align: left;\">\n",
       "                            <strong>Dashboard: </strong> <a href=\"http://127.0.0.1:41963/status\" target=\"_blank\">http://127.0.0.1:41963/status</a>\n",
       "                        </td>\n",
       "                        <td style=\"text-align: left;\">\n",
       "                            <strong>Memory: </strong> 16.00 GiB\n",
       "                        </td>\n",
       "                    </tr>\n",
       "                    <tr>\n",
       "                        <td style=\"text-align: left;\">\n",
       "                            <strong>Nanny: </strong> tcp://127.0.0.1:37193\n",
       "                        </td>\n",
       "                        <td style=\"text-align: left;\"></td>\n",
       "                    </tr>\n",
       "                    <tr>\n",
       "                        <td colspan=\"2\" style=\"text-align: left;\">\n",
       "                            <strong>Local directory: </strong> /tmp/dask-scratch-space/worker-ejwoeosx\n",
       "                        </td>\n",
       "                    </tr>\n",
       "\n",
       "                    \n",
       "                    <tr>\n",
       "                        <td style=\"text-align: left;\">\n",
       "                            <strong>GPU: </strong>NVIDIA GeForce GTX 1080 Ti\n",
       "                        </td>\n",
       "                        <td style=\"text-align: left;\">\n",
       "                            <strong>GPU memory: </strong> 11.00 GiB\n",
       "                        </td>\n",
       "                    </tr>\n",
       "                    \n",
       "\n",
       "                    \n",
       "\n",
       "                </table>\n",
       "            </details>\n",
       "            </div>\n",
       "        </div>\n",
       "        \n",
       "        <div style=\"margin-bottom: 20px;\">\n",
       "            <div style=\"width: 24px; height: 24px; background-color: #DBF5FF; border: 3px solid #4CC9FF; border-radius: 5px; position: absolute;\"> </div>\n",
       "            <div style=\"margin-left: 48px;\">\n",
       "            <details>\n",
       "                <summary>\n",
       "                    <h4 style=\"margin-bottom: 0px; display: inline;\">Worker: 1</h4>\n",
       "                </summary>\n",
       "                <table style=\"width: 100%; text-align: left;\">\n",
       "                    <tr>\n",
       "                        <td style=\"text-align: left;\">\n",
       "                            <strong>Comm: </strong> tcp://127.0.0.1:43071\n",
       "                        </td>\n",
       "                        <td style=\"text-align: left;\">\n",
       "                            <strong>Total threads: </strong> 1\n",
       "                        </td>\n",
       "                    </tr>\n",
       "                    <tr>\n",
       "                        <td style=\"text-align: left;\">\n",
       "                            <strong>Dashboard: </strong> <a href=\"http://127.0.0.1:41023/status\" target=\"_blank\">http://127.0.0.1:41023/status</a>\n",
       "                        </td>\n",
       "                        <td style=\"text-align: left;\">\n",
       "                            <strong>Memory: </strong> 16.00 GiB\n",
       "                        </td>\n",
       "                    </tr>\n",
       "                    <tr>\n",
       "                        <td style=\"text-align: left;\">\n",
       "                            <strong>Nanny: </strong> tcp://127.0.0.1:41089\n",
       "                        </td>\n",
       "                        <td style=\"text-align: left;\"></td>\n",
       "                    </tr>\n",
       "                    <tr>\n",
       "                        <td colspan=\"2\" style=\"text-align: left;\">\n",
       "                            <strong>Local directory: </strong> /tmp/dask-scratch-space/worker-od0wuai1\n",
       "                        </td>\n",
       "                    </tr>\n",
       "\n",
       "                    \n",
       "                    <tr>\n",
       "                        <td style=\"text-align: left;\">\n",
       "                            <strong>GPU: </strong>NVIDIA GeForce GTX 1080 Ti\n",
       "                        </td>\n",
       "                        <td style=\"text-align: left;\">\n",
       "                            <strong>GPU memory: </strong> 11.00 GiB\n",
       "                        </td>\n",
       "                    </tr>\n",
       "                    \n",
       "\n",
       "                    \n",
       "\n",
       "                </table>\n",
       "            </details>\n",
       "            </div>\n",
       "        </div>\n",
       "        \n",
       "\n",
       "    </details>\n",
       "</div>\n",
       "\n",
       "        </details>\n",
       "    </div>\n",
       "</div>\n",
       "            </details>\n",
       "        \n",
       "\n",
       "    </div>\n",
       "</div>"
      ],
      "text/plain": [
       "<Client: 'tcp://127.0.0.1:41167' processes=2 threads=2, memory=32.00 GiB>"
      ]
     },
     "execution_count": 7,
     "metadata": {},
     "output_type": "execute_result"
    }
   ],
   "source": [
    "cluster = LocalCUDACluster(dashboard_address=f\"127.0.0.1:{port}\")\n",
    "client = Client(cluster)\n",
    "\n",
    "client"
   ]
  },
  {
   "cell_type": "code",
   "execution_count": 8,
   "metadata": {},
   "outputs": [
    {
     "name": "stdout",
     "output_type": "stream",
     "text": [
      "CPU times: user 1.97 s, sys: 726 ms, total: 2.7 s\n",
      "Wall time: 8.97 s\n"
     ]
    },
    {
     "data": {
      "text/plain": [
       "{'tcp://127.0.0.1:41283': {'status': 'OK'},\n",
       " 'tcp://127.0.0.1:43071': {'status': 'OK'}}"
      ]
     },
     "execution_count": 8,
     "metadata": {},
     "output_type": "execute_result"
    }
   ],
   "source": [
    "%time client.upload_file('../models/autoencoder.py')"
   ]
  },
  {
   "cell_type": "code",
   "execution_count": 9,
   "metadata": {},
   "outputs": [
    {
     "name": "stdout",
     "output_type": "stream",
     "text": [
      "Dask ml version : 2023.3.24\n"
     ]
    }
   ],
   "source": [
    "import dask_ml\n",
    "print (f'Dask ml version : {dask_ml.__version__}' ) "
   ]
  },
  {
   "cell_type": "markdown",
   "metadata": {},
   "source": [
    "### Dataset and Model\n",
    "\n",
    "* **Dataset:** Noisy MNIST images for denoising.\n",
    "* **Model:** Deep learning autoencoder with a latent dimension of 49."
   ]
  },
  {
   "cell_type": "code",
   "execution_count": 10,
   "metadata": {},
   "outputs": [],
   "source": [
    "%load_ext autoreload\n",
    "%autoreload 2\n",
    "%matplotlib inline\n"
   ]
  },
  {
   "cell_type": "code",
   "execution_count": 11,
   "metadata": {},
   "outputs": [],
   "source": [
    "import noisy_mnist\n",
    "chunk_size = 70_000 // 3\n",
    "_X, _y = noisy_mnist.dataset()\n",
    "_X = _X[:chunk_size * 3]\n",
    "_y = _y[:chunk_size * 3]"
   ]
  },
  {
   "cell_type": "code",
   "execution_count": 12,
   "metadata": {},
   "outputs": [
    {
     "data": {
      "text/plain": [
       "((69999, 784), dtype('float32'), 0.0, 1.0)"
      ]
     },
     "execution_count": 12,
     "metadata": {},
     "output_type": "execute_result"
    }
   ],
   "source": [
    "_X.shape, _X.dtype, _X.min(), _X.max()"
   ]
  },
  {
   "cell_type": "code",
   "execution_count": 13,
   "metadata": {},
   "outputs": [
    {
     "data": {
      "text/plain": [
       "((69999, 784), dtype('float32'), 0.0, 1.0)"
      ]
     },
     "execution_count": 13,
     "metadata": {},
     "output_type": "execute_result"
    }
   ],
   "source": [
    "_y.shape, _y.dtype, _y.min(), _y.max()"
   ]
  },
  {
   "cell_type": "code",
   "execution_count": 14,
   "metadata": {},
   "outputs": [
    {
     "data": {
      "text/plain": [
       "(dask.array<array, shape=(69999, 784), dtype=float32, chunksize=(23333, 784), chunktype=numpy.ndarray>,\n",
       " dask.array<array, shape=(69999, 784), dtype=float32, chunksize=(23333, 784), chunktype=numpy.ndarray>)"
      ]
     },
     "execution_count": 14,
     "metadata": {},
     "output_type": "execute_result"
    }
   ],
   "source": [
    "import dask.array as da\n",
    "n, d = _X.shape\n",
    "X = da.from_array(_X, chunks=(n // 3, d))\n",
    "y = da.from_array(_y, chunks=n // 3)\n",
    "X, y"
   ]
  },
  {
   "cell_type": "code",
   "execution_count": 15,
   "metadata": {},
   "outputs": [
    {
     "data": {
      "image/png": "[encoded data removed]",
      "text/plain": [
       "<Figure size 800x200 with 16 Axes>"
      ]
     },
     "metadata": {},
     "output_type": "display_data"
    }
   ],
   "source": [
    "import matplotlib.pyplot as plt\n",
    "import seaborn as sns\n",
    "from sklearn.utils import check_random_state\n",
    "\n",
    "rng = check_random_state(42)\n",
    "cols = 8\n",
    "w = 1.0\n",
    "fig, axs = plt.subplots(figsize=(cols*w, 2*w), ncols=cols, nrows=2)\n",
    "for col, (upper, lower) in enumerate(zip(axs[0], axs[1])):\n",
    "    if col == 0:\n",
    "        upper.text(-28, 14, 'ground\\ntruth')\n",
    "        lower.text(-28, 14, 'input')\n",
    "    i = rng.choice(len(X))\n",
    "    noisy = X[i].reshape(28, 28)\n",
    "    clean = y[i].reshape(28, 28)\n",
    "    kwargs = {'cbar': False, 'xticklabels': False, 'yticklabels': False, 'cmap': 'gray_r'}\n",
    "    sns.heatmap(noisy, ax=lower, **kwargs)\n",
    "    sns.heatmap(clean, ax=upper, **kwargs)\n",
    "plt.savefig(f\"{absolutepath_to_results}/input-output.svg\", bbox_inches=\"tight\")\n",
    "plt.show()"
   ]
  },
  {
   "cell_type": "markdown",
   "metadata": {},
   "source": [
    "### Model Architecture\n",
    "\n",
    "The autoencoder model uses PyTorch through the scikit-learn interface [skorch].\n",
    "\n",
    "[skorch]:https://github.com/dnouri/skorch"
   ]
  },
  {
   "cell_type": "code",
   "execution_count": 16,
   "metadata": {},
   "outputs": [],
   "source": [
    "from autoencoder import Autoencoder, NegLossScore\n",
    "import torch\n",
    "\n",
    "\n",
    "def trim_params(**kwargs):\n",
    "    if kwargs['optimizer'] != 'Adam':\n",
    "        kwargs.pop('optimizer__amsgrad', None)\n",
    "    if kwargs['optimizer'] == 'Adam':\n",
    "        kwargs.pop('optimizer__lr', None)\n",
    "    if kwargs['optimizer'] != 'SGD':\n",
    "        kwargs.pop('optimizer__nesterov', None)\n",
    "        kwargs.pop('optimizer__momentum', None)\n",
    "    kwargs['optimizer'] = getattr(torch.optim, kwargs['optimizer'])\n",
    "    return kwargs\n",
    "\n",
    "class TrimParams(NegLossScore):\n",
    "    def set_params(self, **kwargs):\n",
    "        kwargs = trim_params(**kwargs)\n",
    "        return super().set_params(**kwargs)\n",
    "\n",
    "model = TrimParams(\n",
    "    module=Autoencoder,\n",
    "    criterion=torch.nn.BCELoss,\n",
    "    warm_start=True,\n",
    "    train_split=None,\n",
    "    max_epochs=1,\n",
    "    callbacks=[]\n",
    ")"
   ]
  },
  {
   "cell_type": "markdown",
   "metadata": {},
   "source": [
    "I don't show it here; I'd rather concentrate on tuning hyperparameters. But briefly, it's a simple fully connected 3 hidden layer autoencoder with a latent dimension of 49."
   ]
  },
  {
   "cell_type": "markdown",
   "metadata": {},
   "source": [
    "### Hyperparameter Optimization Setup\n",
    "\n",
    "* Uses Dask for distributed computing.\n",
    "* Defines parameter search space (`params`).\n",
    "* Sets random state for reproducibility.\n",
    "\n",
    "##### Parameters\n",
    "\n",
    "The parameters interesting in tuning are\n",
    "\n",
    "* model\n",
    "    * initialization\n",
    "    * activation function\n",
    "    * weight decay (which is similar to $\\ell_2$ regularization)\n",
    "* optimizer\n",
    "    * which optimizer to use (e.g., Adam, SGD)\n",
    "    * batch size used to approximate gradient\n",
    "    * learning rate (but not for Adam)\n",
    "    * momentum for SGD"
   ]
  },
  {
   "cell_type": "code",
   "execution_count": 17,
   "metadata": {},
   "outputs": [],
   "source": [
    "import numpy as np\n",
    "\n",
    "params = {\n",
    "    'module__init': ['xavier_uniform_',\n",
    "                     'xavier_normal_',\n",
    "                     'kaiming_uniform_',\n",
    "                     'kaiming_normal_',\n",
    "                    ],\n",
    "    'module__activation': ['ReLU', 'LeakyReLU', 'ELU', 'PReLU'],\n",
    "    'optimizer': [\"SGD\"] * 5 + [\"Adam\"] * 2,\n",
    "    'batch_size': [32, 64, 128, 256, 512],\n",
    "    'optimizer__lr': np.logspace(1, -1.5, num=1000),\n",
    "    'optimizer__weight_decay': [0]*200 + np.logspace(-5, -3, num=1000).tolist(),\n",
    "    'optimizer__nesterov': [True],\n",
    "    'optimizer__momentum': np.linspace(0, 1, num=1000),\n",
    "    'train_split': [None],\n",
    "}"
   ]
  },
  {
   "cell_type": "markdown",
   "metadata": {},
   "source": [
    "Testing `optimizer` to be `SGD` or `Adam` comes from here \"[The Marginal Value of Adaptive Gradient Methods in Machine Learning][marginal]\". From their abstract,\n",
    "\n",
    "> We observe that the solutions found by adaptive methods generalize worse (often sig- nificantly worse) than SGD, even when these solutions have better training performance. These results suggest that practitioners should reconsider the use of adaptive methods to train neural networks.\n",
    "\n",
    "Their experiments in Figure 1b show that non-adaptive methods (SGD and heavy ball) perform much better than adaptive methods.\n",
    "\n",
    "They have to do some tuning for this. **Can we replicate their result?**\n",
    "\n",
    "[marginal]:https://arxiv.org/pdf/1705.08292.pdf"
   ]
  },
  {
   "cell_type": "code",
   "execution_count": 18,
   "metadata": {},
   "outputs": [],
   "source": [
    "# # for debugging; ignore this cell\n",
    "# from sklearn.linear_model import SGDClassifier\n",
    "# from sklearn.datasets import make_classification\n",
    "# from sklearn.model_selection import ParameterSampler\n",
    "# import dask.array as da\n",
    "# import numpy as np\n",
    "# model = SGDClassifier()\n",
    "# params = {'alpha': np.logspace(-7, 0, num=int(1e6))}\n",
    "\n",
    "# n, d = int(10e3), 700\n",
    "# _X, _y = make_classification(n_samples=n, n_features=d,\n",
    "#                              random_state=1)\n",
    "# X = da.from_array(_X, chunks=(n // 10, d))\n",
    "# y = da.from_array(_y, chunks=n // 10)\n",
    "# X, y"
   ]
  },
  {
   "cell_type": "code",
   "execution_count": 19,
   "metadata": {},
   "outputs": [],
   "source": [
    "import json\n",
    "\n",
    "def fmt(obj):\n",
    "    if isinstance(obj, list):\n",
    "        return [fmt(v) for v in obj]\n",
    "    if isinstance(obj, dict):\n",
    "        return {k: fmt(v) for k, v in obj.items()}\n",
    "    if isinstance(obj, np.ndarray):\n",
    "        return obj.tolist()\n",
    "    return obj\n"
   ]
  },
  {
   "cell_type": "code",
   "execution_count": 20,
   "metadata": {},
   "outputs": [],
   "source": [
    "\n",
    "import msgpack\n",
    "\n",
    "def save_search(search, today, prefix, X, y):\n",
    "    # create the folder into results and direct the results over there\n",
    "    path = \"/\".join(os.getcwd().split(\"/\")[:-1])\n",
    "    results_folder = f\"results/skorch_run/{today}\"\n",
    "    absolutepath_to_results = os.path.join(path,results_folder)\n",
    "    os.makedirs(absolutepath_to_results,exist_ok=True)\n",
    "    pre = f\"{absolutepath_to_results}/{today}-{prefix}-\"\n",
    "\n",
    "\n",
    "    with open(pre + \"test.npz\", \"wb\") as f:\n",
    "        y_hat = search.predict(X)\n",
    "        y_hat = y_hat.compute()\n",
    "        np.savez(f, X=X, y=y, y_hat=y_hat)\n",
    "    # skorch models aren't pickable\n",
    "    with open(pre + \"params.json\", \"w\") as f:\n",
    "        params = {k: fmt(v) for k, v in search.get_params().items() if \"estimator\" not in k and \"param_distribution\" not in k}\n",
    "        json.dump(params, f)\n",
    "    # with open(pre + \"best-model.joblib\", \"wb\") as f:\n",
    "    #     joblib.dump(search.best_estimator_, f)\n",
    "    with open(pre + \"best-params-and-score.json\", \"w\") as f:\n",
    "        json.dump({\"params\": search.best_params_, \"score\": search.best_score_}, f)\n",
    "\n",
    "    with open(pre + \"history.json\", 'w') as f:\n",
    "        json.dump(search.history_, f)\n",
    "\n",
    "    with open(pre + \"cv_results.json\", 'w') as f:\n",
    "        json.dump(fmt(search.cv_results_), f)"
   ]
  },
  {
   "cell_type": "markdown",
   "metadata": {},
   "source": [
    "### Hyperparameter Optimization Algorithms\n",
    "\n",
    "Compares different optimization algorithms:\n",
    "\n",
    "* **Hyperband:** Efficiently explores and exploits the parameter space.\n",
    "* **Hyperband with Successive Overfitting Prevention (SOP):** Early stops models that don't improve, potentially reducing wasted evaluations.\n",
    "* **Incremental Search with Patience:** Adaptively adds and removes models based on performance."
   ]
  },
  {
   "cell_type": "markdown",
   "metadata": {},
   "source": [
    "#### Data Exploration\n",
    "\n",
    "Visualizes noisy and clean images to understand the task."
   ]
  },
  {
   "cell_type": "code",
   "execution_count": 21,
   "metadata": {},
   "outputs": [
    {
     "data": {
      "text/html": [
       "<table>\n",
       "    <tr>\n",
       "        <td>\n",
       "            <table style=\"border-collapse: collapse;\">\n",
       "                <thead>\n",
       "                    <tr>\n",
       "                        <td> </td>\n",
       "                        <th> Array </th>\n",
       "                        <th> Chunk </th>\n",
       "                    </tr>\n",
       "                </thead>\n",
       "                <tbody>\n",
       "                    \n",
       "                    <tr>\n",
       "                        <th> Bytes </th>\n",
       "                        <td> 209.35 MiB </td>\n",
       "                        <td> 69.78 MiB </td>\n",
       "                    </tr>\n",
       "                    \n",
       "                    <tr>\n",
       "                        <th> Shape </th>\n",
       "                        <td> (69999, 784) </td>\n",
       "                        <td> (23333, 784) </td>\n",
       "                    </tr>\n",
       "                    <tr>\n",
       "                        <th> Dask graph </th>\n",
       "                        <td colspan=\"2\"> 3 chunks in 1 graph layer </td>\n",
       "                    </tr>\n",
       "                    <tr>\n",
       "                        <th> Data type </th>\n",
       "                        <td colspan=\"2\"> float32 numpy.ndarray </td>\n",
       "                    </tr>\n",
       "                </tbody>\n",
       "            </table>\n",
       "        </td>\n",
       "        <td>\n",
       "        <svg width=\"75\" height=\"170\" style=\"stroke:rgb(0,0,0);stroke-width:1\" >\n",
       "\n",
       "  <!-- Horizontal lines -->\n",
       "  <line x1=\"0\" y1=\"0\" x2=\"25\" y2=\"0\" style=\"stroke-width:2\" />\n",
       "  <line x1=\"0\" y1=\"40\" x2=\"25\" y2=\"40\" />\n",
       "  <line x1=\"0\" y1=\"80\" x2=\"25\" y2=\"80\" />\n",
       "  <line x1=\"0\" y1=\"120\" x2=\"25\" y2=\"120\" style=\"stroke-width:2\" />\n",
       "\n",
       "  <!-- Vertical lines -->\n",
       "  <line x1=\"0\" y1=\"0\" x2=\"0\" y2=\"120\" style=\"stroke-width:2\" />\n",
       "  <line x1=\"25\" y1=\"0\" x2=\"25\" y2=\"120\" style=\"stroke-width:2\" />\n",
       "\n",
       "  <!-- Colored Rectangle -->\n",
       "  <polygon points=\"0.0,0.0 25.96349288680034,0.0 25.96349288680034,120.0 0.0,120.0\" style=\"fill:#ECB172A0;stroke-width:0\"/>\n",
       "\n",
       "  <!-- Text -->\n",
       "  <text x=\"12.981746\" y=\"140.000000\" font-size=\"1.0rem\" font-weight=\"100\" text-anchor=\"middle\" >784</text>\n",
       "  <text x=\"45.963493\" y=\"60.000000\" font-size=\"1.0rem\" font-weight=\"100\" text-anchor=\"middle\" transform=\"rotate(-90,45.963493,60.000000)\">69999</text>\n",
       "</svg>\n",
       "        </td>\n",
       "    </tr>\n",
       "</table>"
      ],
      "text/plain": [
       "dask.array<array, shape=(69999, 784), dtype=float32, chunksize=(23333, 784), chunktype=numpy.ndarray>"
      ]
     },
     "execution_count": 21,
     "metadata": {},
     "output_type": "execute_result"
    }
   ],
   "source": [
    "X"
   ]
  },
  {
   "cell_type": "code",
   "execution_count": 22,
   "metadata": {},
   "outputs": [
    {
     "data": {
      "text/plain": [
       "(dask.array<concatenate, shape=(62997, 784), dtype=float32, chunksize=(20999, 784), chunktype=numpy.ndarray>,\n",
       " dask.array<concatenate, shape=(7002, 784), dtype=float32, chunksize=(2334, 784), chunktype=numpy.ndarray>)"
      ]
     },
     "execution_count": 22,
     "metadata": {},
     "output_type": "execute_result"
    }
   ],
   "source": [
    "from dask_ml.model_selection import train_test_split\n",
    "X_train, X_test, y_train, y_test = train_test_split(X, y, test_size=0.1)\n",
    "X_train, X_test"
   ]
  },
  {
   "cell_type": "code",
   "execution_count": 23,
   "metadata": {},
   "outputs": [
    {
     "data": {
      "text/html": [
       "<table>\n",
       "    <tr>\n",
       "        <td>\n",
       "            <table style=\"border-collapse: collapse;\">\n",
       "                <thead>\n",
       "                    <tr>\n",
       "                        <td> </td>\n",
       "                        <th> Array </th>\n",
       "                        <th> Chunk </th>\n",
       "                    </tr>\n",
       "                </thead>\n",
       "                <tbody>\n",
       "                    \n",
       "                    <tr>\n",
       "                        <th> Bytes </th>\n",
       "                        <td> 188.41 MiB </td>\n",
       "                        <td> 62.80 MiB </td>\n",
       "                    </tr>\n",
       "                    \n",
       "                    <tr>\n",
       "                        <th> Shape </th>\n",
       "                        <td> (62997, 784) </td>\n",
       "                        <td> (20999, 784) </td>\n",
       "                    </tr>\n",
       "                    <tr>\n",
       "                        <th> Dask graph </th>\n",
       "                        <td colspan=\"2\"> 3 chunks in 12 graph layers </td>\n",
       "                    </tr>\n",
       "                    <tr>\n",
       "                        <th> Data type </th>\n",
       "                        <td colspan=\"2\"> float32 numpy.ndarray </td>\n",
       "                    </tr>\n",
       "                </tbody>\n",
       "            </table>\n",
       "        </td>\n",
       "        <td>\n",
       "        <svg width=\"76\" height=\"170\" style=\"stroke:rgb(0,0,0);stroke-width:1\" >\n",
       "\n",
       "  <!-- Horizontal lines -->\n",
       "  <line x1=\"0\" y1=\"0\" x2=\"26\" y2=\"0\" style=\"stroke-width:2\" />\n",
       "  <line x1=\"0\" y1=\"40\" x2=\"26\" y2=\"40\" />\n",
       "  <line x1=\"0\" y1=\"80\" x2=\"26\" y2=\"80\" />\n",
       "  <line x1=\"0\" y1=\"120\" x2=\"26\" y2=\"120\" style=\"stroke-width:2\" />\n",
       "\n",
       "  <!-- Vertical lines -->\n",
       "  <line x1=\"0\" y1=\"0\" x2=\"0\" y2=\"120\" style=\"stroke-width:2\" />\n",
       "  <line x1=\"26\" y1=\"0\" x2=\"26\" y2=\"120\" style=\"stroke-width:2\" />\n",
       "\n",
       "  <!-- Colored Rectangle -->\n",
       "  <polygon points=\"0.0,0.0 26.490396879174003,0.0 26.490396879174003,120.0 0.0,120.0\" style=\"fill:#ECB172A0;stroke-width:0\"/>\n",
       "\n",
       "  <!-- Text -->\n",
       "  <text x=\"13.245198\" y=\"140.000000\" font-size=\"1.0rem\" font-weight=\"100\" text-anchor=\"middle\" >784</text>\n",
       "  <text x=\"46.490397\" y=\"60.000000\" font-size=\"1.0rem\" font-weight=\"100\" text-anchor=\"middle\" transform=\"rotate(-90,46.490397,60.000000)\">62997</text>\n",
       "</svg>\n",
       "        </td>\n",
       "    </tr>\n",
       "</table>"
      ],
      "text/plain": [
       "dask.array<concatenate, shape=(62997, 784), dtype=float32, chunksize=(20999, 784), chunktype=numpy.ndarray>"
      ]
     },
     "execution_count": 23,
     "metadata": {},
     "output_type": "execute_result"
    }
   ],
   "source": [
    "y_train"
   ]
  },
  {
   "cell_type": "code",
   "execution_count": 24,
   "metadata": {},
   "outputs": [],
   "source": [
    "from sklearn.linear_model import SGDClassifier\n",
    "\n",
    "max_iter = 20 # originally this number was 250 to make a decent denoising \n",
    "history = {}\n",
    "cv_results = {}\n",
    "searches = {}"
   ]
  },
  {
   "cell_type": "code",
   "execution_count": 25,
   "metadata": {},
   "outputs": [],
   "source": [
    "from dask_ml.model_selection import HyperbandSearchCV\n",
    "\n",
    "fit_params = {}\n",
    "if isinstance(model, SGDClassifier):\n",
    "    fit_params = {'classes': da.unique(y).compute()}\n",
    "   "
   ]
  },
  {
   "cell_type": "markdown",
   "metadata": {},
   "source": [
    "### Hyperparameter Tuning with Hyperband\n",
    "\n",
    "Trains the model with Hyperband and analyzes the results:\n",
    "\n",
    "* Best model parameters\n",
    "* Best model score\n",
    "* Visualizations of the best model's output"
   ]
  },
  {
   "cell_type": "code",
   "execution_count": 26,
   "metadata": {},
   "outputs": [],
   "source": [
    "search = HyperbandSearchCV(model, params, max_iter, random_state=42)"
   ]
  },
  {
   "cell_type": "code",
   "execution_count": 27,
   "metadata": {},
   "outputs": [
    {
     "data": {
      "text/plain": [
       "(62997, 784)"
      ]
     },
     "execution_count": 27,
     "metadata": {},
     "output_type": "execute_result"
    }
   ],
   "source": [
    "y_train.shape"
   ]
  },
  {
   "cell_type": "code",
   "execution_count": 28,
   "metadata": {},
   "outputs": [
    {
     "name": "stdout",
     "output_type": "stream",
     "text": [
      "steps = 1, loss = 3.1491589546203613\n",
      "steps = 1, loss = 1.0405787229537964\n",
      "steps = 1, loss = 49.95913314819336\n",
      "steps = 1, loss = 1.7627955675125122\n",
      "steps = 1, loss = 1.7986866235733032\n",
      "steps = 1, loss = 0.7119414806365967\n",
      "steps = 1, loss = 2.1237661838531494\n",
      "steps = 1, loss = 1.9973433017730713\n",
      "steps = 6, loss = 3.1288132667541504\n",
      "steps = 20, loss = 2.5897934436798096\n",
      "steps = 20, loss = 1.9852360486984253\n",
      "steps = 6, loss = 49.84486770629883\n",
      "steps = 6, loss = 3.0879392623901367\n",
      "steps = 6, loss = 2.5509018898010254\n",
      "steps = 20, loss = 2.4282631874084473\n",
      "steps = 6, loss = 2.658573627471924\n",
      "steps = 1, loss = 1.950537085533142\n",
      "steps = 1, loss = 2.709622859954834\n",
      "steps = 1, loss = 0.6947774291038513\n",
      "steps = 1, loss = 2.06404447555542\n",
      "steps = 1, loss = 1.9618244171142578\n",
      "steps = 1, loss = 2.44063663482666\n",
      "steps = 1, loss = 49.63414764404297\n",
      "steps = 1, loss = 2.066892147064209\n",
      "steps = 1, loss = 2.119412422180176\n",
      "steps = 2, loss = 0.6953856945037842\n",
      "steps = 2, loss = 2.701002597808838\n",
      "steps = 2, loss = 2.1067917346954346\n",
      "steps = 2, loss = 2.056760787963867\n",
      "steps = 2, loss = 2.3648555278778076\n",
      "steps = 18, loss = 2.3000547885894775\n",
      "steps = 2, loss = 2.836858034133911\n",
      "steps = 2, loss = 2.339538812637329\n",
      "steps = 2, loss = 48.327850341796875\n",
      "steps = 2, loss = 2.4644176959991455\n",
      "steps = 6, loss = 2.427206039428711\n",
      "steps = 6, loss = 0.8378687500953674\n",
      "steps = 6, loss = 2.576688528060913\n",
      "steps = 18, loss = 1.8354138135910034\n",
      "CPU times: user 10.1 s, sys: 8.78 s, total: 18.9 s\n",
      "Wall time: 6min 24s\n"
     ]
    },
    {
     "data": {
      "text/html": [
       "<style>#sk-container-id-1 {color: black;}#sk-container-id-1 pre{padding: 0;}#sk-container-id-1 div.sk-toggleable {background-color: white;}#sk-container-id-1 label.sk-toggleable__label {cursor: pointer;display: block;width: 100%;margin-bottom: 0;padding: 0.3em;box-sizing: border-box;text-align: center;}#sk-container-id-1 label.sk-toggleable__label-arrow:before {content: \"▸\";float: left;margin-right: 0.25em;color: #696969;}#sk-container-id-1 label.sk-toggleable__label-arrow:hover:before {color: black;}#sk-container-id-1 div.sk-estimator:hover label.sk-toggleable__label-arrow:before {color: black;}#sk-container-id-1 div.sk-toggleable__content {max-height: 0;max-width: 0;overflow: hidden;text-align: left;background-color: #f0f8ff;}#sk-container-id-1 div.sk-toggleable__content pre {margin: 0.2em;color: black;border-radius: 0.25em;background-color: #f0f8ff;}#sk-container-id-1 input.sk-toggleable__control:checked~div.sk-toggleable__content {max-height: 200px;max-width: 100%;overflow: auto;}#sk-container-id-1 input.sk-toggleable__control:checked~label.sk-toggleable__label-arrow:before {content: \"▾\";}#sk-container-id-1 div.sk-estimator input.sk-toggleable__control:checked~label.sk-toggleable__label {background-color: #d4ebff;}#sk-container-id-1 div.sk-label input.sk-toggleable__control:checked~label.sk-toggleable__label {background-color: #d4ebff;}#sk-container-id-1 input.sk-hidden--visually {border: 0;clip: rect(1px 1px 1px 1px);clip: rect(1px, 1px, 1px, 1px);height: 1px;margin: -1px;overflow: hidden;padding: 0;position: absolute;width: 1px;}#sk-container-id-1 div.sk-estimator {font-family: monospace;background-color: #f0f8ff;border: 1px dotted black;border-radius: 0.25em;box-sizing: border-box;margin-bottom: 0.5em;}#sk-container-id-1 div.sk-estimator:hover {background-color: #d4ebff;}#sk-container-id-1 div.sk-parallel-item::after {content: \"\";width: 100%;border-bottom: 1px solid gray;flex-grow: 1;}#sk-container-id-1 div.sk-label:hover label.sk-toggleable__label {background-color: #d4ebff;}#sk-container-id-1 div.sk-serial::before {content: \"\";position: absolute;border-left: 1px solid gray;box-sizing: border-box;top: 0;bottom: 0;left: 50%;z-index: 0;}#sk-container-id-1 div.sk-serial {display: flex;flex-direction: column;align-items: center;background-color: white;padding-right: 0.2em;padding-left: 0.2em;position: relative;}#sk-container-id-1 div.sk-item {position: relative;z-index: 1;}#sk-container-id-1 div.sk-parallel {display: flex;align-items: stretch;justify-content: center;background-color: white;position: relative;}#sk-container-id-1 div.sk-item::before, #sk-container-id-1 div.sk-parallel-item::before {content: \"\";position: absolute;border-left: 1px solid gray;box-sizing: border-box;top: 0;bottom: 0;left: 50%;z-index: -1;}#sk-container-id-1 div.sk-parallel-item {display: flex;flex-direction: column;z-index: 1;position: relative;background-color: white;}#sk-container-id-1 div.sk-parallel-item:first-child::after {align-self: flex-end;width: 50%;}#sk-container-id-1 div.sk-parallel-item:last-child::after {align-self: flex-start;width: 50%;}#sk-container-id-1 div.sk-parallel-item:only-child::after {width: 0;}#sk-container-id-1 div.sk-dashed-wrapped {border: 1px dashed gray;margin: 0 0.4em 0.5em 0.4em;box-sizing: border-box;padding-bottom: 0.4em;background-color: white;}#sk-container-id-1 div.sk-label label {font-family: monospace;font-weight: bold;display: inline-block;line-height: 1.2em;}#sk-container-id-1 div.sk-label-container {text-align: center;}#sk-container-id-1 div.sk-container {/* jupyter's `normalize.less` sets `[hidden] { display: none; }` but bootstrap.min.css set `[hidden] { display: none !important; }` so we also need the `!important` here to be able to override the default hidden behavior on the sphinx rendered scikit-learn.org. See: https://github.com/scikit-learn/scikit-learn/issues/21755 */display: inline-block !important;position: relative;}#sk-container-id-1 div.sk-text-repr-fallback {display: none;}</style><div id=\"sk-container-id-1\" class=\"sk-top-container\"><div class=\"sk-text-repr-fallback\"><pre>HyperbandSearchCV(estimator=&lt;class &#x27;__main__.TrimParams&#x27;&gt;[uninitialized](\n",
       "  module=&lt;class &#x27;autoencoder.Autoencoder&#x27;&gt;,\n",
       "),\n",
       "                  max_iter=20,\n",
       "                  parameters={&#x27;batch_size&#x27;: [32, 64, 128, 256, 512],\n",
       "                              &#x27;module__activation&#x27;: [&#x27;ReLU&#x27;, &#x27;LeakyReLU&#x27;, &#x27;ELU&#x27;,\n",
       "                                                     &#x27;PReLU&#x27;],\n",
       "                              &#x27;module__init&#x27;: [&#x27;xavier_uniform_&#x27;,\n",
       "                                               &#x27;xavier_normal_&#x27;,\n",
       "                                               &#x27;kaiming_uniform_&#x27;,\n",
       "                                               &#x27;kaiming_normal_&#x27;],\n",
       "                              &#x27;optimizer&#x27;: [&#x27;SGD&#x27;, &#x27;SGD&#x27;, &#x27;SGD&#x27;, &#x27;SG...\n",
       "       0.98098098, 0.98198198, 0.98298298, 0.98398398, 0.98498498,\n",
       "       0.98598599, 0.98698699, 0.98798799, 0.98898899, 0.98998999,\n",
       "       0.99099099, 0.99199199, 0.99299299, 0.99399399, 0.99499499,\n",
       "       0.995996  , 0.996997  , 0.997998  , 0.998999  , 1.        ]),\n",
       "                              &#x27;optimizer__nesterov&#x27;: [True],\n",
       "                              &#x27;optimizer__weight_decay&#x27;: [0, 0, 0, 0, 0, 0, 0,\n",
       "                                                          0, 0, 0, 0, 0, 0, 0,\n",
       "                                                          0, 0, 0, 0, 0, 0, 0,\n",
       "                                                          0, 0, 0, 0, 0, 0, 0,\n",
       "                                                          0, 0, ...],\n",
       "                              &#x27;train_split&#x27;: [None]},\n",
       "                  random_state=42)</pre><b>In a Jupyter environment, please rerun this cell to show the HTML representation or trust the notebook. <br />On GitHub, the HTML representation is unable to render, please try loading this page with nbviewer.org.</b></div><div class=\"sk-container\" hidden><div class=\"sk-item sk-dashed-wrapped\"><div class=\"sk-label-container\"><div class=\"sk-label sk-toggleable\"><input class=\"sk-toggleable__control sk-hidden--visually\" id=\"sk-estimator-id-1\" type=\"checkbox\" ><label for=\"sk-estimator-id-1\" class=\"sk-toggleable__label sk-toggleable__label-arrow\">HyperbandSearchCV</label><div class=\"sk-toggleable__content\"><pre>HyperbandSearchCV(estimator=&lt;class &#x27;__main__.TrimParams&#x27;&gt;[uninitialized](\n",
       "  module=&lt;class &#x27;autoencoder.Autoencoder&#x27;&gt;,\n",
       "),\n",
       "                  max_iter=20,\n",
       "                  parameters={&#x27;batch_size&#x27;: [32, 64, 128, 256, 512],\n",
       "                              &#x27;module__activation&#x27;: [&#x27;ReLU&#x27;, &#x27;LeakyReLU&#x27;, &#x27;ELU&#x27;,\n",
       "                                                     &#x27;PReLU&#x27;],\n",
       "                              &#x27;module__init&#x27;: [&#x27;xavier_uniform_&#x27;,\n",
       "                                               &#x27;xavier_normal_&#x27;,\n",
       "                                               &#x27;kaiming_uniform_&#x27;,\n",
       "                                               &#x27;kaiming_normal_&#x27;],\n",
       "                              &#x27;optimizer&#x27;: [&#x27;SGD&#x27;, &#x27;SGD&#x27;, &#x27;SGD&#x27;, &#x27;SG...\n",
       "       0.98098098, 0.98198198, 0.98298298, 0.98398398, 0.98498498,\n",
       "       0.98598599, 0.98698699, 0.98798799, 0.98898899, 0.98998999,\n",
       "       0.99099099, 0.99199199, 0.99299299, 0.99399399, 0.99499499,\n",
       "       0.995996  , 0.996997  , 0.997998  , 0.998999  , 1.        ]),\n",
       "                              &#x27;optimizer__nesterov&#x27;: [True],\n",
       "                              &#x27;optimizer__weight_decay&#x27;: [0, 0, 0, 0, 0, 0, 0,\n",
       "                                                          0, 0, 0, 0, 0, 0, 0,\n",
       "                                                          0, 0, 0, 0, 0, 0, 0,\n",
       "                                                          0, 0, 0, 0, 0, 0, 0,\n",
       "                                                          0, 0, ...],\n",
       "                              &#x27;train_split&#x27;: [None]},\n",
       "                  random_state=42)</pre></div></div></div><div class=\"sk-parallel\"><div class=\"sk-parallel-item\"><div class=\"sk-item\"><div class=\"sk-label-container\"><div class=\"sk-label sk-toggleable\"><input class=\"sk-toggleable__control sk-hidden--visually\" id=\"sk-estimator-id-2\" type=\"checkbox\" ><label for=\"sk-estimator-id-2\" class=\"sk-toggleable__label sk-toggleable__label-arrow\">estimator: TrimParams</label><div class=\"sk-toggleable__content\"><pre>&lt;class &#x27;__main__.TrimParams&#x27;&gt;[uninitialized](\n",
       "  module=&lt;class &#x27;autoencoder.Autoencoder&#x27;&gt;,\n",
       ")</pre></div></div></div><div class=\"sk-serial\"><div class=\"sk-item\"><div class=\"sk-estimator sk-toggleable\"><input class=\"sk-toggleable__control sk-hidden--visually\" id=\"sk-estimator-id-3\" type=\"checkbox\" ><label for=\"sk-estimator-id-3\" class=\"sk-toggleable__label sk-toggleable__label-arrow\">TrimParams</label><div class=\"sk-toggleable__content\"><pre>&lt;class &#x27;__main__.TrimParams&#x27;&gt;[uninitialized](\n",
       "  module=&lt;class &#x27;autoencoder.Autoencoder&#x27;&gt;,\n",
       ")</pre></div></div></div></div></div></div></div></div></div></div>"
      ],
      "text/plain": [
       "HyperbandSearchCV(estimator=<class '__main__.TrimParams'>[uninitialized](\n",
       "  module=<class 'autoencoder.Autoencoder'>,\n",
       "),\n",
       "                  max_iter=20,\n",
       "                  parameters={'batch_size': [32, 64, 128, 256, 512],\n",
       "                              'module__activation': ['ReLU', 'LeakyReLU', 'ELU',\n",
       "                                                     'PReLU'],\n",
       "                              'module__init': ['xavier_uniform_',\n",
       "                                               'xavier_normal_',\n",
       "                                               'kaiming_uniform_',\n",
       "                                               'kaiming_normal_'],\n",
       "                              'optimizer': ['SGD', 'SGD', 'SGD', 'SG...\n",
       "       0.98098098, 0.98198198, 0.98298298, 0.98398398, 0.98498498,\n",
       "       0.98598599, 0.98698699, 0.98798799, 0.98898899, 0.98998999,\n",
       "       0.99099099, 0.99199199, 0.99299299, 0.99399399, 0.99499499,\n",
       "       0.995996  , 0.996997  , 0.997998  , 0.998999  , 1.        ]),\n",
       "                              'optimizer__nesterov': [True],\n",
       "                              'optimizer__weight_decay': [0, 0, 0, 0, 0, 0, 0,\n",
       "                                                          0, 0, 0, 0, 0, 0, 0,\n",
       "                                                          0, 0, 0, 0, 0, 0, 0,\n",
       "                                                          0, 0, 0, 0, 0, 0, 0,\n",
       "                                                          0, 0, ...],\n",
       "                              'train_split': [None]},\n",
       "                  random_state=42)"
      ]
     },
     "execution_count": 28,
     "metadata": {},
     "output_type": "execute_result"
    }
   ],
   "source": [
    "%%time\n",
    "search.fit(X_train, y_train, **fit_params)"
   ]
  },
  {
   "cell_type": "code",
   "execution_count": 29,
   "metadata": {},
   "outputs": [],
   "source": [
    "# timing_stats = client.profile(filename=\"hyperband.html\")\n",
    "# with open(f\"{absolutepath_to_results}/hyperband-timing.json\", \"w\") as f:\n",
    "#     json.dump(timing_stats[0], f)"
   ]
  },
  {
   "cell_type": "code",
   "execution_count": 30,
   "metadata": {},
   "outputs": [
    {
     "data": {
      "text/plain": [
       "<class '__main__.TrimParams'>[initialized](\n",
       "  module_=Autoencoder(\n",
       "    (encoder): Sequential(\n",
       "      (0): Linear(in_features=784, out_features=784, bias=True)\n",
       "      (1): PReLU(num_parameters=1)\n",
       "      (2): Linear(in_features=784, out_features=196, bias=True)\n",
       "      (3): PReLU(num_parameters=1)\n",
       "    )\n",
       "    (decoder): Sequential(\n",
       "      (0): Linear(in_features=196, out_features=784, bias=True)\n",
       "      (1): PReLU(num_parameters=1)\n",
       "      (2): Linear(in_features=784, out_features=784, bias=True)\n",
       "      (3): Sigmoid()\n",
       "    )\n",
       "  ),\n",
       ")"
      ]
     },
     "execution_count": 30,
     "metadata": {},
     "output_type": "execute_result"
    }
   ],
   "source": [
    "search.best_estimator_"
   ]
  },
  {
   "cell_type": "code",
   "execution_count": 31,
   "metadata": {},
   "outputs": [
    {
     "data": {
      "text/plain": [
       "-1.8354138135910034"
      ]
     },
     "execution_count": 31,
     "metadata": {},
     "output_type": "execute_result"
    }
   ],
   "source": [
    "search.best_score_"
   ]
  },
  {
   "cell_type": "code",
   "execution_count": 32,
   "metadata": {},
   "outputs": [
    {
     "data": {
      "text/plain": [
       "{'train_split': None,\n",
       " 'optimizer__weight_decay': 0,\n",
       " 'optimizer__nesterov': True,\n",
       " 'optimizer__momentum': 0.06006006006006006,\n",
       " 'optimizer__lr': 0.03487727474814178,\n",
       " 'optimizer': 'SGD',\n",
       " 'module__init': 'xavier_uniform_',\n",
       " 'module__activation': 'PReLU',\n",
       " 'batch_size': 256}"
      ]
     },
     "execution_count": 32,
     "metadata": {},
     "output_type": "execute_result"
    }
   ],
   "source": [
    "search.best_params_"
   ]
  },
  {
   "cell_type": "code",
   "execution_count": 33,
   "metadata": {},
   "outputs": [],
   "source": [
    "save_search(search, today, \"hyperband\", X_test.compute(), y_test.compute())"
   ]
  },
  {
   "cell_type": "markdown",
   "metadata": {},
   "source": [
    "### Hyperband with SOP\n",
    "\n",
    "Trains the model with Hyperband with SOP and analyzes the results.\n"
   ]
  },
  {
   "cell_type": "code",
   "execution_count": 34,
   "metadata": {},
   "outputs": [],
   "source": [
    "search_patience = HyperbandSearchCV(model, params, max_iter, random_state=42, patience=True)"
   ]
  },
  {
   "cell_type": "code",
   "execution_count": 35,
   "metadata": {},
   "outputs": [
    {
     "name": "stdout",
     "output_type": "stream",
     "text": [
      "steps = 1, loss = 0.7180733680725098\n",
      "steps = 1, loss = 2.2156736850738525\n",
      "steps = 1, loss = 1.158869743347168\n",
      "steps = 1, loss = 1.916359305381775\n",
      "steps = 1, loss = 3.23938250541687\n",
      "steps = 1, loss = 49.953426361083984\n",
      "steps = 1, loss = 1.7829312086105347\n",
      "steps = 1, loss = 1.9808491468429565\n",
      "steps = 7, loss = 1.7041715383529663\n",
      "steps = 7, loss = 2.7959864139556885\n",
      "steps = 6, loss = 3.117126226425171\n",
      "steps = 6, loss = 2.641444444656372\n",
      "steps = 7, loss = 2.0049614906311035\n",
      "steps = 6, loss = 3.122912883758545\n",
      "steps = 6, loss = 2.1882503032684326\n",
      "steps = 6, loss = 2.600801467895508\n",
      "steps = 1, loss = 2.4645891189575195\n",
      "steps = 1, loss = 1.9655671119689941\n",
      "steps = 1, loss = 2.0668179988861084\n",
      "steps = 1, loss = 2.112539768218994\n",
      "steps = 1, loss = 2.062242269515991\n",
      "steps = 1, loss = 1.9628089666366577\n",
      "steps = 1, loss = 49.99369430541992\n",
      "steps = 1, loss = 2.68534779548645\n",
      "steps = 1, loss = 0.6956506371498108\n",
      "steps = 2, loss = 2.372814416885376\n",
      "steps = 2, loss = 0.6972817182540894\n",
      "steps = 2, loss = 2.439709186553955\n",
      "steps = 2, loss = 2.062836170196533\n",
      "steps = 2, loss = 47.515968322753906\n",
      "steps = 2, loss = 2.136244058609009\n",
      "steps = 2, loss = 2.8787901401519775\n",
      "steps = 2, loss = 2.6836893558502197\n",
      "steps = 2, loss = 2.3332302570343018\n",
      "steps = 6, loss = 1.0224334001541138\n",
      "steps = 6, loss = 2.42462158203125\n",
      "steps = 6, loss = 2.5876479148864746\n",
      "CPU times: user 7.13 s, sys: 6.33 s, total: 13.5 s\n",
      "Wall time: 4min 6s\n"
     ]
    },
    {
     "data": {
      "text/html": [
       "<style>#sk-container-id-2 {color: black;}#sk-container-id-2 pre{padding: 0;}#sk-container-id-2 div.sk-toggleable {background-color: white;}#sk-container-id-2 label.sk-toggleable__label {cursor: pointer;display: block;width: 100%;margin-bottom: 0;padding: 0.3em;box-sizing: border-box;text-align: center;}#sk-container-id-2 label.sk-toggleable__label-arrow:before {content: \"▸\";float: left;margin-right: 0.25em;color: #696969;}#sk-container-id-2 label.sk-toggleable__label-arrow:hover:before {color: black;}#sk-container-id-2 div.sk-estimator:hover label.sk-toggleable__label-arrow:before {color: black;}#sk-container-id-2 div.sk-toggleable__content {max-height: 0;max-width: 0;overflow: hidden;text-align: left;background-color: #f0f8ff;}#sk-container-id-2 div.sk-toggleable__content pre {margin: 0.2em;color: black;border-radius: 0.25em;background-color: #f0f8ff;}#sk-container-id-2 input.sk-toggleable__control:checked~div.sk-toggleable__content {max-height: 200px;max-width: 100%;overflow: auto;}#sk-container-id-2 input.sk-toggleable__control:checked~label.sk-toggleable__label-arrow:before {content: \"▾\";}#sk-container-id-2 div.sk-estimator input.sk-toggleable__control:checked~label.sk-toggleable__label {background-color: #d4ebff;}#sk-container-id-2 div.sk-label input.sk-toggleable__control:checked~label.sk-toggleable__label {background-color: #d4ebff;}#sk-container-id-2 input.sk-hidden--visually {border: 0;clip: rect(1px 1px 1px 1px);clip: rect(1px, 1px, 1px, 1px);height: 1px;margin: -1px;overflow: hidden;padding: 0;position: absolute;width: 1px;}#sk-container-id-2 div.sk-estimator {font-family: monospace;background-color: #f0f8ff;border: 1px dotted black;border-radius: 0.25em;box-sizing: border-box;margin-bottom: 0.5em;}#sk-container-id-2 div.sk-estimator:hover {background-color: #d4ebff;}#sk-container-id-2 div.sk-parallel-item::after {content: \"\";width: 100%;border-bottom: 1px solid gray;flex-grow: 1;}#sk-container-id-2 div.sk-label:hover label.sk-toggleable__label {background-color: #d4ebff;}#sk-container-id-2 div.sk-serial::before {content: \"\";position: absolute;border-left: 1px solid gray;box-sizing: border-box;top: 0;bottom: 0;left: 50%;z-index: 0;}#sk-container-id-2 div.sk-serial {display: flex;flex-direction: column;align-items: center;background-color: white;padding-right: 0.2em;padding-left: 0.2em;position: relative;}#sk-container-id-2 div.sk-item {position: relative;z-index: 1;}#sk-container-id-2 div.sk-parallel {display: flex;align-items: stretch;justify-content: center;background-color: white;position: relative;}#sk-container-id-2 div.sk-item::before, #sk-container-id-2 div.sk-parallel-item::before {content: \"\";position: absolute;border-left: 1px solid gray;box-sizing: border-box;top: 0;bottom: 0;left: 50%;z-index: -1;}#sk-container-id-2 div.sk-parallel-item {display: flex;flex-direction: column;z-index: 1;position: relative;background-color: white;}#sk-container-id-2 div.sk-parallel-item:first-child::after {align-self: flex-end;width: 50%;}#sk-container-id-2 div.sk-parallel-item:last-child::after {align-self: flex-start;width: 50%;}#sk-container-id-2 div.sk-parallel-item:only-child::after {width: 0;}#sk-container-id-2 div.sk-dashed-wrapped {border: 1px dashed gray;margin: 0 0.4em 0.5em 0.4em;box-sizing: border-box;padding-bottom: 0.4em;background-color: white;}#sk-container-id-2 div.sk-label label {font-family: monospace;font-weight: bold;display: inline-block;line-height: 1.2em;}#sk-container-id-2 div.sk-label-container {text-align: center;}#sk-container-id-2 div.sk-container {/* jupyter's `normalize.less` sets `[hidden] { display: none; }` but bootstrap.min.css set `[hidden] { display: none !important; }` so we also need the `!important` here to be able to override the default hidden behavior on the sphinx rendered scikit-learn.org. See: https://github.com/scikit-learn/scikit-learn/issues/21755 */display: inline-block !important;position: relative;}#sk-container-id-2 div.sk-text-repr-fallback {display: none;}</style><div id=\"sk-container-id-2\" class=\"sk-top-container\"><div class=\"sk-text-repr-fallback\"><pre>HyperbandSearchCV(estimator=&lt;class &#x27;__main__.TrimParams&#x27;&gt;[uninitialized](\n",
       "  module=&lt;class &#x27;autoencoder.Autoencoder&#x27;&gt;,\n",
       "),\n",
       "                  max_iter=20,\n",
       "                  parameters={&#x27;batch_size&#x27;: [32, 64, 128, 256, 512],\n",
       "                              &#x27;module__activation&#x27;: [&#x27;ReLU&#x27;, &#x27;LeakyReLU&#x27;, &#x27;ELU&#x27;,\n",
       "                                                     &#x27;PReLU&#x27;],\n",
       "                              &#x27;module__init&#x27;: [&#x27;xavier_uniform_&#x27;,\n",
       "                                               &#x27;xavier_normal_&#x27;,\n",
       "                                               &#x27;kaiming_uniform_&#x27;,\n",
       "                                               &#x27;kaiming_normal_&#x27;],\n",
       "                              &#x27;optimizer&#x27;: [&#x27;SGD&#x27;, &#x27;SGD&#x27;, &#x27;SGD&#x27;, &#x27;SG...\n",
       "       0.98098098, 0.98198198, 0.98298298, 0.98398398, 0.98498498,\n",
       "       0.98598599, 0.98698699, 0.98798799, 0.98898899, 0.98998999,\n",
       "       0.99099099, 0.99199199, 0.99299299, 0.99399399, 0.99499499,\n",
       "       0.995996  , 0.996997  , 0.997998  , 0.998999  , 1.        ]),\n",
       "                              &#x27;optimizer__nesterov&#x27;: [True],\n",
       "                              &#x27;optimizer__weight_decay&#x27;: [0, 0, 0, 0, 0, 0, 0,\n",
       "                                                          0, 0, 0, 0, 0, 0, 0,\n",
       "                                                          0, 0, 0, 0, 0, 0, 0,\n",
       "                                                          0, 0, 0, 0, 0, 0, 0,\n",
       "                                                          0, 0, ...],\n",
       "                              &#x27;train_split&#x27;: [None]},\n",
       "                  patience=True, random_state=42)</pre><b>In a Jupyter environment, please rerun this cell to show the HTML representation or trust the notebook. <br />On GitHub, the HTML representation is unable to render, please try loading this page with nbviewer.org.</b></div><div class=\"sk-container\" hidden><div class=\"sk-item sk-dashed-wrapped\"><div class=\"sk-label-container\"><div class=\"sk-label sk-toggleable\"><input class=\"sk-toggleable__control sk-hidden--visually\" id=\"sk-estimator-id-4\" type=\"checkbox\" ><label for=\"sk-estimator-id-4\" class=\"sk-toggleable__label sk-toggleable__label-arrow\">HyperbandSearchCV</label><div class=\"sk-toggleable__content\"><pre>HyperbandSearchCV(estimator=&lt;class &#x27;__main__.TrimParams&#x27;&gt;[uninitialized](\n",
       "  module=&lt;class &#x27;autoencoder.Autoencoder&#x27;&gt;,\n",
       "),\n",
       "                  max_iter=20,\n",
       "                  parameters={&#x27;batch_size&#x27;: [32, 64, 128, 256, 512],\n",
       "                              &#x27;module__activation&#x27;: [&#x27;ReLU&#x27;, &#x27;LeakyReLU&#x27;, &#x27;ELU&#x27;,\n",
       "                                                     &#x27;PReLU&#x27;],\n",
       "                              &#x27;module__init&#x27;: [&#x27;xavier_uniform_&#x27;,\n",
       "                                               &#x27;xavier_normal_&#x27;,\n",
       "                                               &#x27;kaiming_uniform_&#x27;,\n",
       "                                               &#x27;kaiming_normal_&#x27;],\n",
       "                              &#x27;optimizer&#x27;: [&#x27;SGD&#x27;, &#x27;SGD&#x27;, &#x27;SGD&#x27;, &#x27;SG...\n",
       "       0.98098098, 0.98198198, 0.98298298, 0.98398398, 0.98498498,\n",
       "       0.98598599, 0.98698699, 0.98798799, 0.98898899, 0.98998999,\n",
       "       0.99099099, 0.99199199, 0.99299299, 0.99399399, 0.99499499,\n",
       "       0.995996  , 0.996997  , 0.997998  , 0.998999  , 1.        ]),\n",
       "                              &#x27;optimizer__nesterov&#x27;: [True],\n",
       "                              &#x27;optimizer__weight_decay&#x27;: [0, 0, 0, 0, 0, 0, 0,\n",
       "                                                          0, 0, 0, 0, 0, 0, 0,\n",
       "                                                          0, 0, 0, 0, 0, 0, 0,\n",
       "                                                          0, 0, 0, 0, 0, 0, 0,\n",
       "                                                          0, 0, ...],\n",
       "                              &#x27;train_split&#x27;: [None]},\n",
       "                  patience=True, random_state=42)</pre></div></div></div><div class=\"sk-parallel\"><div class=\"sk-parallel-item\"><div class=\"sk-item\"><div class=\"sk-label-container\"><div class=\"sk-label sk-toggleable\"><input class=\"sk-toggleable__control sk-hidden--visually\" id=\"sk-estimator-id-5\" type=\"checkbox\" ><label for=\"sk-estimator-id-5\" class=\"sk-toggleable__label sk-toggleable__label-arrow\">estimator: TrimParams</label><div class=\"sk-toggleable__content\"><pre>&lt;class &#x27;__main__.TrimParams&#x27;&gt;[uninitialized](\n",
       "  module=&lt;class &#x27;autoencoder.Autoencoder&#x27;&gt;,\n",
       ")</pre></div></div></div><div class=\"sk-serial\"><div class=\"sk-item\"><div class=\"sk-estimator sk-toggleable\"><input class=\"sk-toggleable__control sk-hidden--visually\" id=\"sk-estimator-id-6\" type=\"checkbox\" ><label for=\"sk-estimator-id-6\" class=\"sk-toggleable__label sk-toggleable__label-arrow\">TrimParams</label><div class=\"sk-toggleable__content\"><pre>&lt;class &#x27;__main__.TrimParams&#x27;&gt;[uninitialized](\n",
       "  module=&lt;class &#x27;autoencoder.Autoencoder&#x27;&gt;,\n",
       ")</pre></div></div></div></div></div></div></div></div></div></div>"
      ],
      "text/plain": [
       "HyperbandSearchCV(estimator=<class '__main__.TrimParams'>[uninitialized](\n",
       "  module=<class 'autoencoder.Autoencoder'>,\n",
       "),\n",
       "                  max_iter=20,\n",
       "                  parameters={'batch_size': [32, 64, 128, 256, 512],\n",
       "                              'module__activation': ['ReLU', 'LeakyReLU', 'ELU',\n",
       "                                                     'PReLU'],\n",
       "                              'module__init': ['xavier_uniform_',\n",
       "                                               'xavier_normal_',\n",
       "                                               'kaiming_uniform_',\n",
       "                                               'kaiming_normal_'],\n",
       "                              'optimizer': ['SGD', 'SGD', 'SGD', 'SG...\n",
       "       0.98098098, 0.98198198, 0.98298298, 0.98398398, 0.98498498,\n",
       "       0.98598599, 0.98698699, 0.98798799, 0.98898899, 0.98998999,\n",
       "       0.99099099, 0.99199199, 0.99299299, 0.99399399, 0.99499499,\n",
       "       0.995996  , 0.996997  , 0.997998  , 0.998999  , 1.        ]),\n",
       "                              'optimizer__nesterov': [True],\n",
       "                              'optimizer__weight_decay': [0, 0, 0, 0, 0, 0, 0,\n",
       "                                                          0, 0, 0, 0, 0, 0, 0,\n",
       "                                                          0, 0, 0, 0, 0, 0, 0,\n",
       "                                                          0, 0, 0, 0, 0, 0, 0,\n",
       "                                                          0, 0, ...],\n",
       "                              'train_split': [None]},\n",
       "                  patience=True, random_state=42)"
      ]
     },
     "execution_count": 35,
     "metadata": {},
     "output_type": "execute_result"
    }
   ],
   "source": [
    "%%time\n",
    "search_patience.fit(X_train, y_train, **fit_params)"
   ]
  },
  {
   "cell_type": "code",
   "execution_count": 36,
   "metadata": {},
   "outputs": [],
   "source": [
    "save_search(search_patience, today, \"hyperband-w-patience\", X_test.compute(), y_test.compute())"
   ]
  },
  {
   "cell_type": "code",
   "execution_count": 37,
   "metadata": {},
   "outputs": [],
   "source": [
    "# timing_stats = timing_stats = client.profile(filename=\"hyperband.html\")\n",
    "# with open(f\"{absolutepath_to_results}/hyperband+sop-timing.json\", \"w\") as f:\n",
    "#     json.dump(timing_stats[0], f)"
   ]
  },
  {
   "cell_type": "code",
   "execution_count": 38,
   "metadata": {},
   "outputs": [
    {
     "data": {
      "text/plain": [
       "<class '__main__.TrimParams'>[initialized](\n",
       "  module_=Autoencoder(\n",
       "    (encoder): Sequential(\n",
       "      (0): Linear(in_features=784, out_features=784, bias=True)\n",
       "      (1): PReLU(num_parameters=1)\n",
       "      (2): Linear(in_features=784, out_features=196, bias=True)\n",
       "      (3): PReLU(num_parameters=1)\n",
       "    )\n",
       "    (decoder): Sequential(\n",
       "      (0): Linear(in_features=196, out_features=784, bias=True)\n",
       "      (1): PReLU(num_parameters=1)\n",
       "      (2): Linear(in_features=784, out_features=784, bias=True)\n",
       "      (3): Sigmoid()\n",
       "    )\n",
       "  ),\n",
       ")"
      ]
     },
     "execution_count": 38,
     "metadata": {},
     "output_type": "execute_result"
    }
   ],
   "source": [
    "search_patience.best_estimator_"
   ]
  },
  {
   "cell_type": "code",
   "execution_count": 39,
   "metadata": {},
   "outputs": [
    {
     "data": {
      "text/plain": [
       "-1.0224334001541138"
      ]
     },
     "execution_count": 39,
     "metadata": {},
     "output_type": "execute_result"
    }
   ],
   "source": [
    "search_patience.best_score_"
   ]
  },
  {
   "cell_type": "code",
   "execution_count": 40,
   "metadata": {},
   "outputs": [
    {
     "data": {
      "text/plain": [
       "{'train_split': None,\n",
       " 'optimizer__weight_decay': 0,\n",
       " 'optimizer__nesterov': True,\n",
       " 'optimizer__momentum': 0.06006006006006006,\n",
       " 'optimizer__lr': 0.03487727474814178,\n",
       " 'optimizer': 'SGD',\n",
       " 'module__init': 'xavier_uniform_',\n",
       " 'module__activation': 'PReLU',\n",
       " 'batch_size': 256}"
      ]
     },
     "execution_count": 40,
     "metadata": {},
     "output_type": "execute_result"
    }
   ],
   "source": [
    "search_patience.best_params_"
   ]
  },
  {
   "cell_type": "markdown",
   "metadata": {},
   "source": [
    "### Visualizing output of best estimator"
   ]
  },
  {
   "cell_type": "code",
   "execution_count": 41,
   "metadata": {},
   "outputs": [],
   "source": [
    "noisy_test = X_test.compute()"
   ]
  },
  {
   "cell_type": "code",
   "execution_count": 42,
   "metadata": {},
   "outputs": [
    {
     "data": {
      "text/plain": [
       "(7002, 2, 784)"
      ]
     },
     "execution_count": 42,
     "metadata": {},
     "output_type": "execute_result"
    }
   ],
   "source": [
    "clean_hat = search.best_estimator_.predict(noisy_test)\n",
    "clean_hat.shape"
   ]
  },
  {
   "cell_type": "code",
   "execution_count": 43,
   "metadata": {},
   "outputs": [
    {
     "data": {
      "image/png": "[encoded data removed]",
      "text/plain": [
       "<Figure size 800x300 with 24 Axes>"
      ]
     },
     "metadata": {},
     "output_type": "display_data"
    }
   ],
   "source": [
    "import matplotlib.pyplot as plt\n",
    "from sklearn.utils import check_random_state\n",
    "import seaborn as sns\n",
    "\n",
    "cols = 8\n",
    "w = 1.0\n",
    "fig, axs = plt.subplots(figsize=(cols*w, 3*w), ncols=cols, nrows=3)\n",
    "\n",
    "rng = check_random_state(42)\n",
    "for col, (upper, middle, lower) in enumerate(zip(axs[0], axs[1], axs[2])):\n",
    "    if col == 0:\n",
    "        upper.text(-28, 14, 'ground\\ntruth')\n",
    "        middle.text(-28, 14, 'input')\n",
    "        lower.text(-28, 14, 'output')\n",
    "    i = rng.choice(len(X_test))\n",
    "    noisy = X_test[i].reshape(28, 28)\n",
    "    clean = y_test[i].reshape(28, 28)\n",
    "    clean_hat_i = clean_hat[i][1].reshape(28,28)\n",
    "    kwargs = {'cbar': False, 'xticklabels': False, 'yticklabels': False, 'cmap': 'gray_r'}\n",
    "    sns.heatmap(noisy, ax=middle, **kwargs)\n",
    "    sns.heatmap(clean, ax=upper, **kwargs)\n",
    "    sns.heatmap(clean_hat_i, ax=lower, **kwargs)\n",
    "plt.savefig(f\"{absolutepath_to_results}/best-out.svg\", bbox_inches=\"tight\")\n",
    "plt.show()"
   ]
  },
  {
   "cell_type": "markdown",
   "metadata": {},
   "source": [
    "### Setting Parameters for Hyperband\n",
    "\n",
    "Tuning Hyperband requires setting:\n",
    "\n",
    "* `max_iter`: Number of epochs or data passes for training.\n",
    "* Chunk size for the data array.\n",
    "\n",
    "These determine the number of models evaluated and the overall search complexity."
   ]
  },
  {
   "cell_type": "markdown",
   "metadata": {},
   "source": [
    "### Comparison with Early Stopping Techniques\n",
    "\n",
    "Compares Hyperband with:\n",
    "\n",
    "* **Passive Search:** No early stopping, evaluates all models.\n",
    "* **Incremental Search with Patience:** Early stops models that don't improve on a validation set.\n",
    "\n",
    "Analyzes:\n",
    "\n",
    "* Best model scores\n",
    "* Visualizations of the best model's output"
   ]
  },
  {
   "cell_type": "code",
   "execution_count": 44,
   "metadata": {},
   "outputs": [
    {
     "data": {
      "text/plain": [
       "(20, 7, 144)"
      ]
     },
     "execution_count": 44,
     "metadata": {},
     "output_type": "execute_result"
    }
   ],
   "source": [
    "total_calls = search.metadata_['partial_fit_calls']\n",
    "num_calls = max_iter\n",
    "\n",
    "# n_workers = 32 or len(client.cluster.workers)\n",
    "n_workers = len(client.cluster.workers)\n",
    "num_models = max(n_workers, total_calls // num_calls)\n",
    "num_calls, num_models, total_calls"
   ]
  },
  {
   "cell_type": "code",
   "execution_count": 45,
   "metadata": {},
   "outputs": [],
   "source": [
    "from dask_ml.model_selection import IncrementalSearchCV\n",
    "\n",
    "passive_search = IncrementalSearchCV(\n",
    "    model,\n",
    "    params,\n",
    "    decay_rate=0,\n",
    "    patience=False,\n",
    "    n_initial_parameters=num_models,\n",
    "    max_iter=num_calls,\n",
    "    random_state=42\n",
    ")"
   ]
  },
  {
   "cell_type": "code",
   "execution_count": 46,
   "metadata": {},
   "outputs": [
    {
     "name": "stdout",
     "output_type": "stream",
     "text": [
      "steps = 1, loss = 2.009619951248169\n",
      "steps = 1, loss = 0.7750937342643738\n",
      "steps = 1, loss = 1.0185312032699585\n",
      "steps = 1, loss = 1.966507911682129\n",
      "steps = 1, loss = 2.059221029281616\n",
      "steps = 1, loss = 0.7133487462997437\n",
      "steps = 1, loss = 1.969589352607727\n",
      "steps = 2, loss = 2.1883339881896973\n",
      "steps = 2, loss = 1.6228523254394531\n",
      "steps = 2, loss = 2.417375326156616\n",
      "steps = 2, loss = 0.7701475620269775\n",
      "steps = 2, loss = 1.261467456817627\n",
      "steps = 2, loss = 2.4164106845855713\n",
      "steps = 2, loss = 2.2483668327331543\n",
      "steps = 3, loss = 1.581132411956787\n",
      "steps = 3, loss = 2.457209587097168\n",
      "steps = 3, loss = 1.7830049991607666\n",
      "steps = 3, loss = 1.0214272737503052\n",
      "steps = 3, loss = 2.4578216075897217\n",
      "steps = 3, loss = 2.622565746307373\n",
      "steps = 3, loss = 2.4951446056365967\n",
      "steps = 4, loss = 2.72416090965271\n",
      "steps = 4, loss = 1.7233872413635254\n",
      "steps = 4, loss = 2.8120691776275635\n",
      "steps = 4, loss = 1.3382542133331299\n",
      "steps = 4, loss = 1.8747538328170776\n",
      "steps = 4, loss = 2.7137820720672607\n",
      "steps = 4, loss = 2.6167919635772705\n",
      "steps = 5, loss = 1.5197950601577759\n",
      "steps = 5, loss = 1.8024365901947021\n",
      "steps = 5, loss = 2.7582101821899414\n",
      "steps = 5, loss = 2.979275941848755\n",
      "steps = 5, loss = 1.9321523904800415\n",
      "steps = 5, loss = 2.8010811805725098\n",
      "steps = 5, loss = 2.767317533493042\n",
      "steps = 6, loss = 2.7722136974334717\n",
      "steps = 6, loss = 2.7320966720581055\n",
      "steps = 6, loss = 2.916447639465332\n",
      "steps = 6, loss = 1.841567039489746\n",
      "steps = 6, loss = 1.9560264348983765\n",
      "steps = 6, loss = 1.6154216527938843\n",
      "steps = 6, loss = 2.9664783477783203\n",
      "steps = 7, loss = 2.8605661392211914\n",
      "steps = 7, loss = 1.9970428943634033\n",
      "steps = 7, loss = 2.7473039627075195\n",
      "steps = 7, loss = 2.5410592555999756\n",
      "steps = 7, loss = 3.0683176517486572\n",
      "steps = 7, loss = 1.6850433349609375\n",
      "steps = 7, loss = 1.881466269493103\n",
      "steps = 8, loss = 1.7556381225585938\n",
      "steps = 8, loss = 3.020648956298828\n",
      "steps = 8, loss = 2.6045081615448\n",
      "steps = 8, loss = 1.9364087581634521\n",
      "steps = 8, loss = 2.7895667552948\n",
      "steps = 8, loss = 2.064985752105713\n",
      "steps = 8, loss = 3.1661794185638428\n",
      "steps = 9, loss = 2.789999485015869\n",
      "steps = 9, loss = 2.1068921089172363\n",
      "steps = 9, loss = 1.965690016746521\n",
      "steps = 9, loss = 3.3007214069366455\n",
      "steps = 9, loss = 2.667982339859009\n",
      "steps = 9, loss = 3.0335490703582764\n",
      "steps = 9, loss = 1.7978705167770386\n",
      "steps = 10, loss = 3.076709508895874\n",
      "steps = 10, loss = 2.1491870880126953\n",
      "steps = 10, loss = 2.793592929840088\n",
      "steps = 10, loss = 1.995218276977539\n",
      "steps = 10, loss = 2.738347053527832\n",
      "steps = 10, loss = 1.837701678276062\n",
      "steps = 10, loss = 3.3055458068847656\n",
      "steps = 11, loss = 3.0738472938537598\n",
      "steps = 11, loss = 2.6037001609802246\n",
      "steps = 11, loss = 2.1907079219818115\n",
      "steps = 11, loss = 3.3479163646698\n",
      "steps = 11, loss = 2.7877016067504883\n",
      "steps = 11, loss = 2.0157930850982666\n",
      "steps = 11, loss = 1.8642494678497314\n",
      "steps = 12, loss = 3.026688814163208\n",
      "steps = 12, loss = 3.268934488296509\n",
      "steps = 12, loss = 2.204012155532837\n",
      "steps = 12, loss = 1.875141978263855\n",
      "steps = 12, loss = 2.7932519912719727\n",
      "steps = 12, loss = 2.0178420543670654\n",
      "steps = 12, loss = 2.755418300628662\n",
      "steps = 13, loss = 3.057541608810425\n",
      "steps = 13, loss = 2.0335726737976074\n",
      "steps = 13, loss = 2.241382122039795\n",
      "steps = 13, loss = 3.303032159805298\n",
      "steps = 13, loss = 1.8930636644363403\n",
      "steps = 13, loss = 2.756399393081665\n",
      "steps = 13, loss = 2.8622124195098877\n",
      "steps = 14, loss = 3.510263681411743\n",
      "steps = 14, loss = 2.071722984313965\n",
      "steps = 14, loss = 3.1274254322052\n",
      "steps = 14, loss = 2.6939196586608887\n",
      "steps = 14, loss = 2.8065388202667236\n",
      "steps = 14, loss = 2.3056647777557373\n",
      "steps = 14, loss = 1.928305745124817\n",
      "steps = 15, loss = 1.9458515644073486\n",
      "steps = 15, loss = 2.762446641921997\n",
      "steps = 15, loss = 3.165355682373047\n",
      "steps = 15, loss = 2.9913177490234375\n",
      "steps = 15, loss = 3.46562123298645\n",
      "steps = 15, loss = 2.090207815170288\n",
      "steps = 15, loss = 2.3478190898895264\n",
      "steps = 16, loss = 2.8023908138275146\n",
      "steps = 16, loss = 2.8050382137298584\n",
      "steps = 16, loss = 3.19132399559021\n",
      "steps = 16, loss = 2.1111204624176025\n",
      "steps = 16, loss = 3.319352626800537\n",
      "steps = 16, loss = 2.381828546524048\n",
      "steps = 16, loss = 1.9661922454833984\n",
      "steps = 17, loss = 3.348435163497925\n",
      "steps = 17, loss = 2.7044942378997803\n",
      "steps = 17, loss = 3.1945855617523193\n",
      "steps = 17, loss = 2.3898732662200928\n",
      "steps = 17, loss = 1.964493989944458\n",
      "steps = 17, loss = 2.1086628437042236\n",
      "steps = 17, loss = 2.729680061340332\n",
      "steps = 18, loss = 2.7617526054382324\n",
      "steps = 18, loss = 2.141427993774414\n",
      "steps = 18, loss = 1.987194299697876\n",
      "steps = 18, loss = 2.7552199363708496\n",
      "steps = 18, loss = 2.448990821838379\n",
      "steps = 18, loss = 3.2467164993286133\n",
      "steps = 18, loss = 3.456012010574341\n",
      "steps = 19, loss = 2.1634743213653564\n",
      "steps = 19, loss = 3.533299207687378\n",
      "steps = 19, loss = 2.479328155517578\n",
      "steps = 19, loss = 2.8938207626342773\n",
      "steps = 19, loss = 3.2236320972442627\n",
      "steps = 19, loss = 2.8022055625915527\n",
      "steps = 19, loss = 2.0051870346069336\n",
      "steps = 20, loss = 2.483379602432251\n",
      "steps = 20, loss = 2.0009567737579346\n",
      "steps = 20, loss = 2.1618998050689697\n",
      "steps = 20, loss = 2.7283148765563965\n",
      "steps = 20, loss = 3.4964852333068848\n",
      "steps = 20, loss = 2.7996819019317627\n",
      "steps = 20, loss = 3.2877845764160156\n",
      "CPU times: user 9.14 s, sys: 6.46 s, total: 15.6 s\n",
      "Wall time: 5min 28s\n"
     ]
    },
    {
     "data": {
      "text/html": [
       "<style>#sk-container-id-3 {color: black;}#sk-container-id-3 pre{padding: 0;}#sk-container-id-3 div.sk-toggleable {background-color: white;}#sk-container-id-3 label.sk-toggleable__label {cursor: pointer;display: block;width: 100%;margin-bottom: 0;padding: 0.3em;box-sizing: border-box;text-align: center;}#sk-container-id-3 label.sk-toggleable__label-arrow:before {content: \"▸\";float: left;margin-right: 0.25em;color: #696969;}#sk-container-id-3 label.sk-toggleable__label-arrow:hover:before {color: black;}#sk-container-id-3 div.sk-estimator:hover label.sk-toggleable__label-arrow:before {color: black;}#sk-container-id-3 div.sk-toggleable__content {max-height: 0;max-width: 0;overflow: hidden;text-align: left;background-color: #f0f8ff;}#sk-container-id-3 div.sk-toggleable__content pre {margin: 0.2em;color: black;border-radius: 0.25em;background-color: #f0f8ff;}#sk-container-id-3 input.sk-toggleable__control:checked~div.sk-toggleable__content {max-height: 200px;max-width: 100%;overflow: auto;}#sk-container-id-3 input.sk-toggleable__control:checked~label.sk-toggleable__label-arrow:before {content: \"▾\";}#sk-container-id-3 div.sk-estimator input.sk-toggleable__control:checked~label.sk-toggleable__label {background-color: #d4ebff;}#sk-container-id-3 div.sk-label input.sk-toggleable__control:checked~label.sk-toggleable__label {background-color: #d4ebff;}#sk-container-id-3 input.sk-hidden--visually {border: 0;clip: rect(1px 1px 1px 1px);clip: rect(1px, 1px, 1px, 1px);height: 1px;margin: -1px;overflow: hidden;padding: 0;position: absolute;width: 1px;}#sk-container-id-3 div.sk-estimator {font-family: monospace;background-color: #f0f8ff;border: 1px dotted black;border-radius: 0.25em;box-sizing: border-box;margin-bottom: 0.5em;}#sk-container-id-3 div.sk-estimator:hover {background-color: #d4ebff;}#sk-container-id-3 div.sk-parallel-item::after {content: \"\";width: 100%;border-bottom: 1px solid gray;flex-grow: 1;}#sk-container-id-3 div.sk-label:hover label.sk-toggleable__label {background-color: #d4ebff;}#sk-container-id-3 div.sk-serial::before {content: \"\";position: absolute;border-left: 1px solid gray;box-sizing: border-box;top: 0;bottom: 0;left: 50%;z-index: 0;}#sk-container-id-3 div.sk-serial {display: flex;flex-direction: column;align-items: center;background-color: white;padding-right: 0.2em;padding-left: 0.2em;position: relative;}#sk-container-id-3 div.sk-item {position: relative;z-index: 1;}#sk-container-id-3 div.sk-parallel {display: flex;align-items: stretch;justify-content: center;background-color: white;position: relative;}#sk-container-id-3 div.sk-item::before, #sk-container-id-3 div.sk-parallel-item::before {content: \"\";position: absolute;border-left: 1px solid gray;box-sizing: border-box;top: 0;bottom: 0;left: 50%;z-index: -1;}#sk-container-id-3 div.sk-parallel-item {display: flex;flex-direction: column;z-index: 1;position: relative;background-color: white;}#sk-container-id-3 div.sk-parallel-item:first-child::after {align-self: flex-end;width: 50%;}#sk-container-id-3 div.sk-parallel-item:last-child::after {align-self: flex-start;width: 50%;}#sk-container-id-3 div.sk-parallel-item:only-child::after {width: 0;}#sk-container-id-3 div.sk-dashed-wrapped {border: 1px dashed gray;margin: 0 0.4em 0.5em 0.4em;box-sizing: border-box;padding-bottom: 0.4em;background-color: white;}#sk-container-id-3 div.sk-label label {font-family: monospace;font-weight: bold;display: inline-block;line-height: 1.2em;}#sk-container-id-3 div.sk-label-container {text-align: center;}#sk-container-id-3 div.sk-container {/* jupyter's `normalize.less` sets `[hidden] { display: none; }` but bootstrap.min.css set `[hidden] { display: none !important; }` so we also need the `!important` here to be able to override the default hidden behavior on the sphinx rendered scikit-learn.org. See: https://github.com/scikit-learn/scikit-learn/issues/21755 */display: inline-block !important;position: relative;}#sk-container-id-3 div.sk-text-repr-fallback {display: none;}</style><div id=\"sk-container-id-3\" class=\"sk-top-container\"><div class=\"sk-text-repr-fallback\"><pre>IncrementalSearchCV(decay_rate=0,\n",
       "                    estimator=&lt;class &#x27;__main__.TrimParams&#x27;&gt;[uninitialized](\n",
       "  module=&lt;class &#x27;autoencoder.Autoencoder&#x27;&gt;,\n",
       "),\n",
       "                    max_iter=20, n_initial_parameters=7,\n",
       "                    parameters={&#x27;batch_size&#x27;: [32, 64, 128, 256, 512],\n",
       "                                &#x27;module__activation&#x27;: [&#x27;ReLU&#x27;, &#x27;LeakyReLU&#x27;,\n",
       "                                                       &#x27;ELU&#x27;, &#x27;PReLU&#x27;],\n",
       "                                &#x27;module__init&#x27;: [&#x27;xavier_uniform_&#x27;,\n",
       "                                                 &#x27;xavier_normal_&#x27;,\n",
       "                                                 &#x27;kaiming_uniform_&#x27;,\n",
       "                                                 &#x27;kaiming_normal...\n",
       "       0.98098098, 0.98198198, 0.98298298, 0.98398398, 0.98498498,\n",
       "       0.98598599, 0.98698699, 0.98798799, 0.98898899, 0.98998999,\n",
       "       0.99099099, 0.99199199, 0.99299299, 0.99399399, 0.99499499,\n",
       "       0.995996  , 0.996997  , 0.997998  , 0.998999  , 1.        ]),\n",
       "                                &#x27;optimizer__nesterov&#x27;: [True],\n",
       "                                &#x27;optimizer__weight_decay&#x27;: [0, 0, 0, 0, 0, 0, 0,\n",
       "                                                            0, 0, 0, 0, 0, 0, 0,\n",
       "                                                            0, 0, 0, 0, 0, 0, 0,\n",
       "                                                            0, 0, 0, 0, 0, 0, 0,\n",
       "                                                            0, 0, ...],\n",
       "                                &#x27;train_split&#x27;: [None]},\n",
       "                    random_state=42)</pre><b>In a Jupyter environment, please rerun this cell to show the HTML representation or trust the notebook. <br />On GitHub, the HTML representation is unable to render, please try loading this page with nbviewer.org.</b></div><div class=\"sk-container\" hidden><div class=\"sk-item sk-dashed-wrapped\"><div class=\"sk-label-container\"><div class=\"sk-label sk-toggleable\"><input class=\"sk-toggleable__control sk-hidden--visually\" id=\"sk-estimator-id-7\" type=\"checkbox\" ><label for=\"sk-estimator-id-7\" class=\"sk-toggleable__label sk-toggleable__label-arrow\">IncrementalSearchCV</label><div class=\"sk-toggleable__content\"><pre>IncrementalSearchCV(decay_rate=0,\n",
       "                    estimator=&lt;class &#x27;__main__.TrimParams&#x27;&gt;[uninitialized](\n",
       "  module=&lt;class &#x27;autoencoder.Autoencoder&#x27;&gt;,\n",
       "),\n",
       "                    max_iter=20, n_initial_parameters=7,\n",
       "                    parameters={&#x27;batch_size&#x27;: [32, 64, 128, 256, 512],\n",
       "                                &#x27;module__activation&#x27;: [&#x27;ReLU&#x27;, &#x27;LeakyReLU&#x27;,\n",
       "                                                       &#x27;ELU&#x27;, &#x27;PReLU&#x27;],\n",
       "                                &#x27;module__init&#x27;: [&#x27;xavier_uniform_&#x27;,\n",
       "                                                 &#x27;xavier_normal_&#x27;,\n",
       "                                                 &#x27;kaiming_uniform_&#x27;,\n",
       "                                                 &#x27;kaiming_normal...\n",
       "       0.98098098, 0.98198198, 0.98298298, 0.98398398, 0.98498498,\n",
       "       0.98598599, 0.98698699, 0.98798799, 0.98898899, 0.98998999,\n",
       "       0.99099099, 0.99199199, 0.99299299, 0.99399399, 0.99499499,\n",
       "       0.995996  , 0.996997  , 0.997998  , 0.998999  , 1.        ]),\n",
       "                                &#x27;optimizer__nesterov&#x27;: [True],\n",
       "                                &#x27;optimizer__weight_decay&#x27;: [0, 0, 0, 0, 0, 0, 0,\n",
       "                                                            0, 0, 0, 0, 0, 0, 0,\n",
       "                                                            0, 0, 0, 0, 0, 0, 0,\n",
       "                                                            0, 0, 0, 0, 0, 0, 0,\n",
       "                                                            0, 0, ...],\n",
       "                                &#x27;train_split&#x27;: [None]},\n",
       "                    random_state=42)</pre></div></div></div><div class=\"sk-parallel\"><div class=\"sk-parallel-item\"><div class=\"sk-item\"><div class=\"sk-label-container\"><div class=\"sk-label sk-toggleable\"><input class=\"sk-toggleable__control sk-hidden--visually\" id=\"sk-estimator-id-8\" type=\"checkbox\" ><label for=\"sk-estimator-id-8\" class=\"sk-toggleable__label sk-toggleable__label-arrow\">estimator: TrimParams</label><div class=\"sk-toggleable__content\"><pre>&lt;class &#x27;__main__.TrimParams&#x27;&gt;[uninitialized](\n",
       "  module=&lt;class &#x27;autoencoder.Autoencoder&#x27;&gt;,\n",
       ")</pre></div></div></div><div class=\"sk-serial\"><div class=\"sk-item\"><div class=\"sk-estimator sk-toggleable\"><input class=\"sk-toggleable__control sk-hidden--visually\" id=\"sk-estimator-id-9\" type=\"checkbox\" ><label for=\"sk-estimator-id-9\" class=\"sk-toggleable__label sk-toggleable__label-arrow\">TrimParams</label><div class=\"sk-toggleable__content\"><pre>&lt;class &#x27;__main__.TrimParams&#x27;&gt;[uninitialized](\n",
       "  module=&lt;class &#x27;autoencoder.Autoencoder&#x27;&gt;,\n",
       ")</pre></div></div></div></div></div></div></div></div></div></div>"
      ],
      "text/plain": [
       "IncrementalSearchCV(decay_rate=0,\n",
       "                    estimator=<class '__main__.TrimParams'>[uninitialized](\n",
       "  module=<class 'autoencoder.Autoencoder'>,\n",
       "),\n",
       "                    max_iter=20, n_initial_parameters=7,\n",
       "                    parameters={'batch_size': [32, 64, 128, 256, 512],\n",
       "                                'module__activation': ['ReLU', 'LeakyReLU',\n",
       "                                                       'ELU', 'PReLU'],\n",
       "                                'module__init': ['xavier_uniform_',\n",
       "                                                 'xavier_normal_',\n",
       "                                                 'kaiming_uniform_',\n",
       "                                                 'kaiming_normal...\n",
       "       0.98098098, 0.98198198, 0.98298298, 0.98398398, 0.98498498,\n",
       "       0.98598599, 0.98698699, 0.98798799, 0.98898899, 0.98998999,\n",
       "       0.99099099, 0.99199199, 0.99299299, 0.99399399, 0.99499499,\n",
       "       0.995996  , 0.996997  , 0.997998  , 0.998999  , 1.        ]),\n",
       "                                'optimizer__nesterov': [True],\n",
       "                                'optimizer__weight_decay': [0, 0, 0, 0, 0, 0, 0,\n",
       "                                                            0, 0, 0, 0, 0, 0, 0,\n",
       "                                                            0, 0, 0, 0, 0, 0, 0,\n",
       "                                                            0, 0, 0, 0, 0, 0, 0,\n",
       "                                                            0, 0, ...],\n",
       "                                'train_split': [None]},\n",
       "                    random_state=42)"
      ]
     },
     "execution_count": 46,
     "metadata": {},
     "output_type": "execute_result"
    }
   ],
   "source": [
    "%%time\n",
    "passive_search.fit(X_train, y_train, **fit_params)"
   ]
  },
  {
   "cell_type": "code",
   "execution_count": 47,
   "metadata": {},
   "outputs": [],
   "source": [
    "save_search(passive_search, today, \"passive\", X_test.compute(), y_test.compute())"
   ]
  },
  {
   "cell_type": "code",
   "execution_count": 48,
   "metadata": {},
   "outputs": [],
   "source": [
    "# timing_stats = client.profile()\n",
    "# with open(f\"{absolutepath_to_results}/final-final-timings.json\", \"w\") as f:\n",
    "#     json.dump(timing_stats, f)"
   ]
  },
  {
   "cell_type": "markdown",
   "metadata": {},
   "source": [
    "* patience: `max_iter // 8` (10 epochs)\n",
    "* n_initial: `2 * num_models`\n",
    "\n",
    "This requires choosing\n",
    "\n",
    "* the explore/exploit tradeoff (`patience` vs `n_initial`)\n",
    "* some estimate on many models will take advantage of `patience` to get total number of partial fit calls"
   ]
  },
  {
   "cell_type": "code",
   "execution_count": 49,
   "metadata": {},
   "outputs": [],
   "source": [
    "from dask_ml.model_selection import IncrementalSearchCV\n",
    "\n",
    "patience_search = IncrementalSearchCV(\n",
    "    model,\n",
    "    params,\n",
    "    decay_rate=0,\n",
    "    patience=max_iter // 10,\n",
    "    n_initial_parameters=2 * num_models,\n",
    "    max_iter=num_calls,\n",
    "    random_state=42,\n",
    ")"
   ]
  },
  {
   "cell_type": "code",
   "execution_count": 50,
   "metadata": {},
   "outputs": [
    {
     "name": "stdout",
     "output_type": "stream",
     "text": [
      "steps = 1, loss = 2.1181106567382812\n",
      "steps = 1, loss = 1.960186243057251\n",
      "steps = 1, loss = 2.478877305984497\n",
      "steps = 1, loss = 2.3099262714385986\n",
      "steps = 1, loss = 0.7696030735969543\n",
      "steps = 1, loss = 2.404611587524414\n",
      "steps = 1, loss = 2.0132172107696533\n",
      "steps = 1, loss = 1.9090073108673096\n",
      "steps = 1, loss = 2.0980758666992188\n",
      "steps = 1, loss = 0.7151800394058228\n",
      "steps = 1, loss = 0.7235367298126221\n",
      "steps = 1, loss = 1.9738233089447021\n",
      "steps = 1, loss = 1.0870850086212158\n",
      "steps = 1, loss = 49.99527359008789\n",
      "steps = 2, loss = 2.218050718307495\n",
      "steps = 2, loss = 2.5066118240356445\n",
      "steps = 2, loss = 2.772975444793701\n",
      "steps = 2, loss = 2.4966256618499756\n",
      "steps = 2, loss = 1.2413793802261353\n",
      "steps = 2, loss = 2.675715208053589\n",
      "steps = 2, loss = 2.07818341255188\n",
      "steps = 2, loss = 2.4301962852478027\n",
      "steps = 2, loss = 0.784129798412323\n",
      "steps = 2, loss = 2.0688977241516113\n",
      "steps = 2, loss = 2.2166242599487305\n",
      "steps = 2, loss = 1.5032137632369995\n",
      "steps = 2, loss = 1.6460254192352295\n",
      "steps = 2, loss = 49.55785369873047\n",
      "steps = 3, loss = 2.1820309162139893\n",
      "steps = 3, loss = 49.96223831176758\n",
      "CPU times: user 4.37 s, sys: 3.32 s, total: 7.69 s\n",
      "Wall time: 2min 34s\n"
     ]
    },
    {
     "data": {
      "text/html": [
       "<style>#sk-container-id-4 {color: black;}#sk-container-id-4 pre{padding: 0;}#sk-container-id-4 div.sk-toggleable {background-color: white;}#sk-container-id-4 label.sk-toggleable__label {cursor: pointer;display: block;width: 100%;margin-bottom: 0;padding: 0.3em;box-sizing: border-box;text-align: center;}#sk-container-id-4 label.sk-toggleable__label-arrow:before {content: \"▸\";float: left;margin-right: 0.25em;color: #696969;}#sk-container-id-4 label.sk-toggleable__label-arrow:hover:before {color: black;}#sk-container-id-4 div.sk-estimator:hover label.sk-toggleable__label-arrow:before {color: black;}#sk-container-id-4 div.sk-toggleable__content {max-height: 0;max-width: 0;overflow: hidden;text-align: left;background-color: #f0f8ff;}#sk-container-id-4 div.sk-toggleable__content pre {margin: 0.2em;color: black;border-radius: 0.25em;background-color: #f0f8ff;}#sk-container-id-4 input.sk-toggleable__control:checked~div.sk-toggleable__content {max-height: 200px;max-width: 100%;overflow: auto;}#sk-container-id-4 input.sk-toggleable__control:checked~label.sk-toggleable__label-arrow:before {content: \"▾\";}#sk-container-id-4 div.sk-estimator input.sk-toggleable__control:checked~label.sk-toggleable__label {background-color: #d4ebff;}#sk-container-id-4 div.sk-label input.sk-toggleable__control:checked~label.sk-toggleable__label {background-color: #d4ebff;}#sk-container-id-4 input.sk-hidden--visually {border: 0;clip: rect(1px 1px 1px 1px);clip: rect(1px, 1px, 1px, 1px);height: 1px;margin: -1px;overflow: hidden;padding: 0;position: absolute;width: 1px;}#sk-container-id-4 div.sk-estimator {font-family: monospace;background-color: #f0f8ff;border: 1px dotted black;border-radius: 0.25em;box-sizing: border-box;margin-bottom: 0.5em;}#sk-container-id-4 div.sk-estimator:hover {background-color: #d4ebff;}#sk-container-id-4 div.sk-parallel-item::after {content: \"\";width: 100%;border-bottom: 1px solid gray;flex-grow: 1;}#sk-container-id-4 div.sk-label:hover label.sk-toggleable__label {background-color: #d4ebff;}#sk-container-id-4 div.sk-serial::before {content: \"\";position: absolute;border-left: 1px solid gray;box-sizing: border-box;top: 0;bottom: 0;left: 50%;z-index: 0;}#sk-container-id-4 div.sk-serial {display: flex;flex-direction: column;align-items: center;background-color: white;padding-right: 0.2em;padding-left: 0.2em;position: relative;}#sk-container-id-4 div.sk-item {position: relative;z-index: 1;}#sk-container-id-4 div.sk-parallel {display: flex;align-items: stretch;justify-content: center;background-color: white;position: relative;}#sk-container-id-4 div.sk-item::before, #sk-container-id-4 div.sk-parallel-item::before {content: \"\";position: absolute;border-left: 1px solid gray;box-sizing: border-box;top: 0;bottom: 0;left: 50%;z-index: -1;}#sk-container-id-4 div.sk-parallel-item {display: flex;flex-direction: column;z-index: 1;position: relative;background-color: white;}#sk-container-id-4 div.sk-parallel-item:first-child::after {align-self: flex-end;width: 50%;}#sk-container-id-4 div.sk-parallel-item:last-child::after {align-self: flex-start;width: 50%;}#sk-container-id-4 div.sk-parallel-item:only-child::after {width: 0;}#sk-container-id-4 div.sk-dashed-wrapped {border: 1px dashed gray;margin: 0 0.4em 0.5em 0.4em;box-sizing: border-box;padding-bottom: 0.4em;background-color: white;}#sk-container-id-4 div.sk-label label {font-family: monospace;font-weight: bold;display: inline-block;line-height: 1.2em;}#sk-container-id-4 div.sk-label-container {text-align: center;}#sk-container-id-4 div.sk-container {/* jupyter's `normalize.less` sets `[hidden] { display: none; }` but bootstrap.min.css set `[hidden] { display: none !important; }` so we also need the `!important` here to be able to override the default hidden behavior on the sphinx rendered scikit-learn.org. See: https://github.com/scikit-learn/scikit-learn/issues/21755 */display: inline-block !important;position: relative;}#sk-container-id-4 div.sk-text-repr-fallback {display: none;}</style><div id=\"sk-container-id-4\" class=\"sk-top-container\"><div class=\"sk-text-repr-fallback\"><pre>IncrementalSearchCV(decay_rate=0,\n",
       "                    estimator=&lt;class &#x27;__main__.TrimParams&#x27;&gt;[uninitialized](\n",
       "  module=&lt;class &#x27;autoencoder.Autoencoder&#x27;&gt;,\n",
       "),\n",
       "                    max_iter=20, n_initial_parameters=14,\n",
       "                    parameters={&#x27;batch_size&#x27;: [32, 64, 128, 256, 512],\n",
       "                                &#x27;module__activation&#x27;: [&#x27;ReLU&#x27;, &#x27;LeakyReLU&#x27;,\n",
       "                                                       &#x27;ELU&#x27;, &#x27;PReLU&#x27;],\n",
       "                                &#x27;module__init&#x27;: [&#x27;xavier_uniform_&#x27;,\n",
       "                                                 &#x27;xavier_normal_&#x27;,\n",
       "                                                 &#x27;kaiming_uniform_&#x27;,\n",
       "                                                 &#x27;kaiming_norma...\n",
       "       0.98098098, 0.98198198, 0.98298298, 0.98398398, 0.98498498,\n",
       "       0.98598599, 0.98698699, 0.98798799, 0.98898899, 0.98998999,\n",
       "       0.99099099, 0.99199199, 0.99299299, 0.99399399, 0.99499499,\n",
       "       0.995996  , 0.996997  , 0.997998  , 0.998999  , 1.        ]),\n",
       "                                &#x27;optimizer__nesterov&#x27;: [True],\n",
       "                                &#x27;optimizer__weight_decay&#x27;: [0, 0, 0, 0, 0, 0, 0,\n",
       "                                                            0, 0, 0, 0, 0, 0, 0,\n",
       "                                                            0, 0, 0, 0, 0, 0, 0,\n",
       "                                                            0, 0, 0, 0, 0, 0, 0,\n",
       "                                                            0, 0, ...],\n",
       "                                &#x27;train_split&#x27;: [None]},\n",
       "                    patience=2, random_state=42)</pre><b>In a Jupyter environment, please rerun this cell to show the HTML representation or trust the notebook. <br />On GitHub, the HTML representation is unable to render, please try loading this page with nbviewer.org.</b></div><div class=\"sk-container\" hidden><div class=\"sk-item sk-dashed-wrapped\"><div class=\"sk-label-container\"><div class=\"sk-label sk-toggleable\"><input class=\"sk-toggleable__control sk-hidden--visually\" id=\"sk-estimator-id-10\" type=\"checkbox\" ><label for=\"sk-estimator-id-10\" class=\"sk-toggleable__label sk-toggleable__label-arrow\">IncrementalSearchCV</label><div class=\"sk-toggleable__content\"><pre>IncrementalSearchCV(decay_rate=0,\n",
       "                    estimator=&lt;class &#x27;__main__.TrimParams&#x27;&gt;[uninitialized](\n",
       "  module=&lt;class &#x27;autoencoder.Autoencoder&#x27;&gt;,\n",
       "),\n",
       "                    max_iter=20, n_initial_parameters=14,\n",
       "                    parameters={&#x27;batch_size&#x27;: [32, 64, 128, 256, 512],\n",
       "                                &#x27;module__activation&#x27;: [&#x27;ReLU&#x27;, &#x27;LeakyReLU&#x27;,\n",
       "                                                       &#x27;ELU&#x27;, &#x27;PReLU&#x27;],\n",
       "                                &#x27;module__init&#x27;: [&#x27;xavier_uniform_&#x27;,\n",
       "                                                 &#x27;xavier_normal_&#x27;,\n",
       "                                                 &#x27;kaiming_uniform_&#x27;,\n",
       "                                                 &#x27;kaiming_norma...\n",
       "       0.98098098, 0.98198198, 0.98298298, 0.98398398, 0.98498498,\n",
       "       0.98598599, 0.98698699, 0.98798799, 0.98898899, 0.98998999,\n",
       "       0.99099099, 0.99199199, 0.99299299, 0.99399399, 0.99499499,\n",
       "       0.995996  , 0.996997  , 0.997998  , 0.998999  , 1.        ]),\n",
       "                                &#x27;optimizer__nesterov&#x27;: [True],\n",
       "                                &#x27;optimizer__weight_decay&#x27;: [0, 0, 0, 0, 0, 0, 0,\n",
       "                                                            0, 0, 0, 0, 0, 0, 0,\n",
       "                                                            0, 0, 0, 0, 0, 0, 0,\n",
       "                                                            0, 0, 0, 0, 0, 0, 0,\n",
       "                                                            0, 0, ...],\n",
       "                                &#x27;train_split&#x27;: [None]},\n",
       "                    patience=2, random_state=42)</pre></div></div></div><div class=\"sk-parallel\"><div class=\"sk-parallel-item\"><div class=\"sk-item\"><div class=\"sk-label-container\"><div class=\"sk-label sk-toggleable\"><input class=\"sk-toggleable__control sk-hidden--visually\" id=\"sk-estimator-id-11\" type=\"checkbox\" ><label for=\"sk-estimator-id-11\" class=\"sk-toggleable__label sk-toggleable__label-arrow\">estimator: TrimParams</label><div class=\"sk-toggleable__content\"><pre>&lt;class &#x27;__main__.TrimParams&#x27;&gt;[uninitialized](\n",
       "  module=&lt;class &#x27;autoencoder.Autoencoder&#x27;&gt;,\n",
       ")</pre></div></div></div><div class=\"sk-serial\"><div class=\"sk-item\"><div class=\"sk-estimator sk-toggleable\"><input class=\"sk-toggleable__control sk-hidden--visually\" id=\"sk-estimator-id-12\" type=\"checkbox\" ><label for=\"sk-estimator-id-12\" class=\"sk-toggleable__label sk-toggleable__label-arrow\">TrimParams</label><div class=\"sk-toggleable__content\"><pre>&lt;class &#x27;__main__.TrimParams&#x27;&gt;[uninitialized](\n",
       "  module=&lt;class &#x27;autoencoder.Autoencoder&#x27;&gt;,\n",
       ")</pre></div></div></div></div></div></div></div></div></div></div>"
      ],
      "text/plain": [
       "IncrementalSearchCV(decay_rate=0,\n",
       "                    estimator=<class '__main__.TrimParams'>[uninitialized](\n",
       "  module=<class 'autoencoder.Autoencoder'>,\n",
       "),\n",
       "                    max_iter=20, n_initial_parameters=14,\n",
       "                    parameters={'batch_size': [32, 64, 128, 256, 512],\n",
       "                                'module__activation': ['ReLU', 'LeakyReLU',\n",
       "                                                       'ELU', 'PReLU'],\n",
       "                                'module__init': ['xavier_uniform_',\n",
       "                                                 'xavier_normal_',\n",
       "                                                 'kaiming_uniform_',\n",
       "                                                 'kaiming_norma...\n",
       "       0.98098098, 0.98198198, 0.98298298, 0.98398398, 0.98498498,\n",
       "       0.98598599, 0.98698699, 0.98798799, 0.98898899, 0.98998999,\n",
       "       0.99099099, 0.99199199, 0.99299299, 0.99399399, 0.99499499,\n",
       "       0.995996  , 0.996997  , 0.997998  , 0.998999  , 1.        ]),\n",
       "                                'optimizer__nesterov': [True],\n",
       "                                'optimizer__weight_decay': [0, 0, 0, 0, 0, 0, 0,\n",
       "                                                            0, 0, 0, 0, 0, 0, 0,\n",
       "                                                            0, 0, 0, 0, 0, 0, 0,\n",
       "                                                            0, 0, 0, 0, 0, 0, 0,\n",
       "                                                            0, 0, ...],\n",
       "                                'train_split': [None]},\n",
       "                    patience=2, random_state=42)"
      ]
     },
     "execution_count": 50,
     "metadata": {},
     "output_type": "execute_result"
    }
   ],
   "source": [
    "%%time\n",
    "patience_search.fit(X_train, y_train, **fit_params)"
   ]
  },
  {
   "cell_type": "code",
   "execution_count": 51,
   "metadata": {},
   "outputs": [
    {
     "data": {
      "text/plain": [
       "-0.784129798412323"
      ]
     },
     "execution_count": 51,
     "metadata": {},
     "output_type": "execute_result"
    }
   ],
   "source": [
    "patience_search.best_score_"
   ]
  },
  {
   "cell_type": "code",
   "execution_count": 52,
   "metadata": {},
   "outputs": [],
   "source": [
    "save_search(patience_search, today, \"patience\", X_test.compute(), y_test.compute())"
   ]
  },
  {
   "cell_type": "code",
   "execution_count": 53,
   "metadata": {},
   "outputs": [],
   "source": [
    "timing_stats = client.profile()\n",
    "with open(f\"{absolutepath_to_results}/final-timings.json\", \"w\") as f:\n",
    "    json.dump(timing_stats, f)"
   ]
  },
  {
   "cell_type": "code",
   "execution_count": 54,
   "metadata": {},
   "outputs": [],
   "source": [
    "data, fig = client.get_task_stream(plot=\"save\", filename=f\"{absolutepath_to_results}/task_stream.html\")"
   ]
  },
  {
   "cell_type": "code",
   "execution_count": 55,
   "metadata": {},
   "outputs": [],
   "source": [
    "import pandas as pd\n",
    "df = pd.DataFrame(list(data))"
   ]
  },
  {
   "cell_type": "code",
   "execution_count": 56,
   "metadata": {},
   "outputs": [
    {
     "data": {
      "text/html": [
       "<div>\n",
       "<style scoped>\n",
       "    .dataframe tbody tr th:only-of-type {\n",
       "        vertical-align: middle;\n",
       "    }\n",
       "\n",
       "    .dataframe tbody tr th {\n",
       "        vertical-align: top;\n",
       "    }\n",
       "\n",
       "    .dataframe thead th {\n",
       "        text-align: right;\n",
       "    }\n",
       "</style>\n",
       "<table border=\"1\" class=\"dataframe\">\n",
       "  <thead>\n",
       "    <tr style=\"text-align: right;\">\n",
       "      <th></th>\n",
       "    </tr>\n",
       "  </thead>\n",
       "  <tbody>\n",
       "  </tbody>\n",
       "</table>\n",
       "</div>"
      ],
      "text/plain": [
       "Empty DataFrame\n",
       "Columns: []\n",
       "Index: []"
      ]
     },
     "execution_count": 56,
     "metadata": {},
     "output_type": "execute_result"
    }
   ],
   "source": [
    "df.head()"
   ]
  },
  {
   "cell_type": "code",
   "execution_count": 57,
   "metadata": {},
   "outputs": [
    {
     "data": {
      "image/png": "[encoded data removed]",
      "text/plain": [
       "<Figure size 800x300 with 24 Axes>"
      ]
     },
     "metadata": {},
     "output_type": "display_data"
    }
   ],
   "source": [
    "clean_hat = patience_search.best_estimator_.predict(noisy_test)\n",
    "\n",
    "cols = 8\n",
    "w = 1.0\n",
    "fig, axs = plt.subplots(figsize=(cols*w, 3*w), ncols=cols, nrows=3)\n",
    "\n",
    "rng = check_random_state(42)\n",
    "for col, (upper, middle, lower) in enumerate(zip(axs[0], axs[1], axs[2])):\n",
    "    if col == 0:\n",
    "        upper.text(-28, 14, 'ground\\ntruth')\n",
    "        middle.text(-28, 14, 'input')\n",
    "        lower.text(-28, 14, 'output')\n",
    "    i = rng.choice(len(X_test))\n",
    "    noisy = X_test[i].reshape(28, 28)\n",
    "    clean = y_test[i].reshape(28, 28)\n",
    "    clean_hat_i = clean_hat[i][1].reshape(28,28)\n",
    "    kwargs = {'cbar': False, 'xticklabels': False, 'yticklabels': False, 'cmap': 'gray_r'}\n",
    "    sns.heatmap(noisy, ax=middle, **kwargs)\n",
    "    sns.heatmap(clean, ax=upper, **kwargs)\n",
    "    sns.heatmap(clean_hat_i, ax=lower, **kwargs)\n",
    "plt.savefig(f\"{absolutepath_to_results}/patience-best-out.svg\", bbox_inches=\"tight\")\n",
    "plt.show()"
   ]
  },
  {
   "cell_type": "markdown",
   "metadata": {},
   "source": [
    "### Conclusion\n",
    "\n",
    "This notebook demonstrates hyperparameter optimization for image denoising using Dask-ML. It compares different algorithms and highlights the importance of choosing appropriate parameters for each approach.\n",
    "\n",
    "This enhanced script provides clear explanations, code comments, and visualizations to effectively teach hyperparameter optimization concepts and best practices."
   ]
  }
 ],
 "metadata": {
  "kernelspec": {
   "display_name": "Python 3",
   "language": "python",
   "name": "python3"
  },
  "language_info": {
   "codemirror_mode": {
    "name": "ipython",
    "version": 3
   },
   "file_extension": ".py",
   "mimetype": "text/x-python",
   "name": "python",
   "nbconvert_exporter": "python",
   "pygments_lexer": "ipython3",
   "version": "3.10.13"
  }
 },
 "nbformat": 4,
 "nbformat_minor": 2
}
